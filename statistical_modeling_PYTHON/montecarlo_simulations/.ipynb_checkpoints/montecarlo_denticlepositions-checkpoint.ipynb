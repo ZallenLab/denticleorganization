{
 "cells": [
  {
   "cell_type": "code",
   "execution_count": null,
   "metadata": {
    "collapsed": true
   },
   "outputs": [],
   "source": [
    "import numpy as np\n",
    "import pandas as pd\n",
    "import scipy.stats as sps\n",
    "import matplotlib.pyplot as plt\n",
    "%matplotlib inline\n",
    "\n",
    "\n",
    "filepath = 'yw_all_RelativePosition.csv'"
   ]
  },
  {
   "cell_type": "code",
   "execution_count": null,
   "metadata": {
    "collapsed": true
   },
   "outputs": [],
   "source": [
    "def TestPasses(pval, cutoff):\n",
    "    if pval <= cutoff: \n",
    "        return 'different'\n",
    "    elif pval > cutoff: \n",
    "        return 'same'\n",
    "\n",
    "\n",
    "def IndivStatTest(simdata, filename_out):\n",
    "# IN: 3D np array, list of strings with length=arr[X,:,:] (array axis 0), name of csv file\n",
    "\n",
    "    test_ks = sps.ks_2samp(invivo_d, simdata)\n",
    "    # outputs [ks-statistic, p-value]\n",
    "\n",
    "    with open(filename_out, 'a') as f:\n",
    "        csv.writer(f).writerows([[column,  test_ks[0], test_ks[1], TestPasses(test_ks[1], 0.05)]])\n",
    "        \n",
    "    return  test_ks[1], TestPasses(test_ks[1], 0.05)\n",
    "            "
   ]
  },
  {
   "cell_type": "markdown",
   "metadata": {},
   "source": [
    "Generate uniform random distributions based on the number of cells given"
   ]
  },
  {
   "cell_type": "code",
   "execution_count": null,
   "metadata": {
    "collapsed": false
   },
   "outputs": [],
   "source": [
    "cellstosim = [(2,12)] #,(2,1140),(3,476),(4,130)]\n",
    "iterations = 10\n",
    "\n",
    "for elem in cellstosim: \n",
    "    dent, cells = elem\n",
    "\n",
    "    positions = np.zeros(((cells*dent),iterations))\n",
    "    fname = str(dent)+'_montecarlo_positions_replicates.csv'\n",
    "    \n",
    "    for it in range(0,iterations): \n",
    "        this = np.reshape(np.random.rand(cells, dent),(1,-1))       \n",
    "        positions[:,it] = this\n",
    "        \n",
    "\n",
    "    np.savetxt(fname, positions, delimiter=',')"
   ]
  },
  {
   "cell_type": "code",
   "execution_count": null,
   "metadata": {
    "collapsed": false
   },
   "outputs": [],
   "source": [
    "positions.shape"
   ]
  },
  {
   "cell_type": "markdown",
   "metadata": {},
   "source": [
    "calculate KS test data, and count how many tests pass for each dentincell number (output in summarydata.csv file)"
   ]
  },
  {
   "cell_type": "code",
   "execution_count": null,
   "metadata": {
    "collapsed": false
   },
   "outputs": [],
   "source": [
    "def TestPasses(pval, cutoff):\n",
    "    if pval <= cutoff: \n",
    "        return 'different'\n",
    "    elif pval > cutoff: \n",
    "        return 'same'\n",
    "\n",
    "\n",
    "def IndivStatTest(simdata, filename_out):\n",
    "# IN: 3D np array, list of strings with length=arr[X,:,:] (array axis 0), name of csv file\n",
    "\n",
    "    test_ks = sps.ks_2samp(invivo_d, simdata)\n",
    "    # outputs [ks-statistic, p-value]\n",
    "\n",
    "    with open(filename_out, 'a') as f:\n",
    "        csv.writer(f).writerows([[column,  test_ks[0], test_ks[1], TestPasses(test_ks[1], 0.05)]])\n",
    "        \n",
    "    return  test_ks[1], TestPasses(test_ks[1], 0.05)\n",
    "            \n",
    "\n",
    "dicmap = ['null','A','B','C','D']\n",
    "\n",
    "\n",
    "invivo_file = 'yw_all_RelativePosition.csv'\n",
    "dentnumbers = [1,2,3,4]\n",
    "\n",
    "\n",
    "invivo_data = pd.read_csv(invivo_file)\n",
    "\n",
    "for dentincell in dentnumbers: \n",
    "    # clear out missing data\n",
    "    invivo = invivo_data[dicmap[dentincell]]\n",
    "    invivo = invivo.replace(0,np.nan)       # turn zeros into NaNs\n",
    "    invivo = invivo.dropna(how='all')       # drop any column (axis=0) or row (axis=1) where ALL values are NaN\n",
    "\n",
    "    invivo_d = invivo/100\n",
    "\n",
    "    mcname = str(dentincell)+'_montecarlo_positions_replicates.csv'\n",
    "    sfname = 'summarydata.csv'\n",
    "\n",
    "    montecarlo = pd.read_csv(mcname,header=None)\n",
    "    pf = []\n",
    "\n",
    "    for column in montecarlo: \n",
    "        pval, dif = IndivStatTest(montecarlo[column], 'montecarlo_kstests_'+str(dentincell)+'dent.csv')\n",
    "        \n",
    "        pf.append(dif)\n",
    "\n",
    "    pfr = pd.Series(pf)\n",
    "    with open(sfname,'a') as f:\n",
    "        f.write(str(dentincell) + ',' + str(pfr[pfr == 'same'].count()) + ',\\n')\n"
   ]
  },
  {
   "cell_type": "code",
   "execution_count": null,
   "metadata": {
    "collapsed": false
   },
   "outputs": [],
   "source": [
    "pfr = pd.Series(pf)\n",
    "with open(sfname,'a') as f:\n",
    "    f.write(str(dentincell) + ',' + str(pfr[pfr == 'same'].count()) + ',\\n')"
   ]
  },
  {
   "cell_type": "markdown",
   "metadata": {
    "collapsed": true
   },
   "source": [
    "make basic plots"
   ]
  },
  {
   "cell_type": "code",
   "execution_count": null,
   "metadata": {
    "collapsed": true
   },
   "outputs": [],
   "source": []
  },
  {
   "cell_type": "raw",
   "metadata": {},
   "source": [
    "mu, sigma = 100, 15\n",
    "x = mu + sigma * np.random.randn(10000)\n",
    "hist, bins = np.histogram(x, bins=50)\n",
    "width = 0.7 * (bins[1] - bins[0])\n",
    "center = (bins[:-1] + bins[1:]) / 2\n",
    "plt.bar(center, hist, align='center', width=width)\n",
    "plt.show()"
   ]
  },
  {
   "cell_type": "code",
   "execution_count": null,
   "metadata": {
    "collapsed": false
   },
   "outputs": [],
   "source": [
    "hist, bins = np.histogram(positions,bins=50)\n",
    "width = 0.7 * (bins[1] - bins[0])\n",
    "center = (bins[:-1] + bins[1:]) / 2\n",
    "plt.bar(center, hist, align='center', width=width)"
   ]
  },
  {
   "cell_type": "markdown",
   "metadata": {
    "collapsed": true
   },
   "source": [
    "pick out first 25 for plotting"
   ]
  },
  {
   "cell_type": "code",
   "execution_count": null,
   "metadata": {
    "collapsed": false
   },
   "outputs": [],
   "source": [
    "dentincell = 1\n",
    "\n",
    "mcname = str(dentincell)+'_montecarlo_positions_replicates.csv'\n",
    "\n",
    "mc = pd.read_csv(mcname,header=None)\n",
    "mc = mc.loc[:,0:49]\n",
    "\n",
    "mc.to_csv('25reps_'+mcname)\n",
    "\n"
   ]
  },
  {
   "cell_type": "code",
   "execution_count": null,
   "metadata": {
    "collapsed": false
   },
   "outputs": [],
   "source": [
    "mc"
   ]
  },
  {
   "cell_type": "code",
   "execution_count": null,
   "metadata": {
    "collapsed": true
   },
   "outputs": [],
   "source": []
  }
 ],
 "metadata": {
  "kernelspec": {
   "display_name": "Python [default]",
   "language": "python",
   "name": "python3"
  },
  "language_info": {
   "codemirror_mode": {
    "name": "ipython",
    "version": 3
   },
   "file_extension": ".py",
   "mimetype": "text/x-python",
   "name": "python",
   "nbconvert_exporter": "python",
   "pygments_lexer": "ipython3",
   "version": "3.5.2"
  }
 },
 "nbformat": 4,
 "nbformat_minor": 0
}
