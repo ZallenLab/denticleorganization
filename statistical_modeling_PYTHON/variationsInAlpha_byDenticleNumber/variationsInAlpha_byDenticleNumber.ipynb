{
 "cells": [
  {
   "cell_type": "markdown",
   "metadata": {},
   "source": [
    "### Variations in alpha over denticle number\n",
    "\n",
    "Goal: graphing variations in calculated alpha with denticle number in embryos and larvae"
   ]
  },
  {
   "cell_type": "code",
   "execution_count": null,
   "metadata": {
    "collapsed": false
   },
   "outputs": [],
   "source": [
    "from IPython.core.display import HTML\n",
    "HTML(\"<style>.container { width:90% !important; }</style>\")"
   ]
  },
  {
   "cell_type": "code",
   "execution_count": null,
   "metadata": {
    "collapsed": true
   },
   "outputs": [],
   "source": [
    "from sys import argv\n",
    "import glob\n",
    "import os\n",
    "import math\n",
    "\n",
    "import numpy as np\n",
    "import pandas as pd\n",
    "import scipy.stats as sps\n",
    "import statsmodels as sm\n",
    "\n",
    "import matplotlib as mpl\n",
    "import matplotlib.pyplot as plt\n",
    "import seaborn as sns\n",
    "\n",
    "%matplotlib inline"
   ]
  },
  {
   "cell_type": "code",
   "execution_count": null,
   "metadata": {
    "collapsed": false
   },
   "outputs": [],
   "source": [
    "sns.set_context('notebook')\n",
    "sns.set_style('darkgrid')\n",
    "# sns.set_style('white')\n",
    "# sns.set_style('ticks')"
   ]
  },
  {
   "cell_type": "code",
   "execution_count": null,
   "metadata": {
    "collapsed": true
   },
   "outputs": [],
   "source": [
    "numbermap = {'five':5, 'six':6, 'seven':7, 'eight':8, 'nine':9}\n",
    "modelmap = {'halfD':.5, 'twothirdsD':.666, 'sixtenthsD':.6, 'sevententhsD':.7, \n",
    "            'threequartersD':.75, 'eighttenthsD':.8, 'ninetenthsD':.9, 'oneD':1}"
   ]
  },
  {
   "cell_type": "code",
   "execution_count": null,
   "metadata": {
    "collapsed": false
   },
   "outputs": [],
   "source": [
    "basepath = os.getcwd()"
   ]
  },
  {
   "cell_type": "code",
   "execution_count": null,
   "metadata": {
    "collapsed": false
   },
   "outputs": [],
   "source": [
    "iterations = os.getcwd().split('_')[-2][0:-10]"
   ]
  },
  {
   "cell_type": "code",
   "execution_count": null,
   "metadata": {
    "collapsed": false
   },
   "outputs": [],
   "source": [
    "names = []\n",
    "for fname in glob.glob('*ks_fractions.csv'):\n",
    "# for fname in glob.glob('*ks_fractions*.csv'):\n",
    "    names.append(fname)\n",
    "\n",
    "\n",
    "fract_data = pd.DataFrame()\n",
    "\n",
    "\n",
    "for name in names: \n",
    "    genotype = name.split('_')[0]\n",
    "    stdev = numbermap[name.split('_')[3]]\n",
    "\n",
    "    temp = pd.read_csv(name, header=0, names=['model','less','greater'])\n",
    "    temp['stage'] = genotype\n",
    "    temp['stdev'] = stdev\n",
    "    temp['dentnumber'] = int(name.split('_')[1][0:2])\n",
    "\n",
    "    fract_data = pd.concat([fract_data, temp], ignore_index=True)\n",
    "\n",
    "os.chdir(basepath)\n",
    "\n",
    "fract_data['modelnumber'] = fract_data['model'].map(modelmap)\n",
    "fract_data.head()"
   ]
  },
  {
   "cell_type": "code",
   "execution_count": null,
   "metadata": {
    "collapsed": true
   },
   "outputs": [],
   "source": [
    "### the real graphs"
   ]
  },
  {
   "cell_type": "code",
   "execution_count": null,
   "metadata": {
    "collapsed": false
   },
   "outputs": [],
   "source": [
    "frac = 99\n",
    "\n",
    "passes = fract_data[fract_data.greater >= frac]\n",
    "\n",
    "with sns.axes_style('darkgrid'):\n",
    "    fig, ax = plt.subplots(figsize=(15,5))\n",
    "    ax.scatter(passes[passes.stage=='Larvae'].dentnumber, passes[passes.stage=='Larvae'].modelnumber, \n",
    "                color='r',marker='o')\n",
    "    ax.scatter(passes[passes.stage=='yw'].dentnumber, passes[passes.stage=='yw'].modelnumber, \n",
    "                color='k',marker='o')\n",
    "    \n",
    "    ax.set_xticks(np.arange(0,18))\n",
    "    ax.set_yticks([0.6, 0.667, 0.7, 0.75, 0.8, 0.9, 1.0, 1.1])\n",
    "    \n",
    "    ax.set_xlim(1.5,12.5)\n",
    "    ax.set_ylim(0.59,1.1)\n",
    "\n",
    "\n",
    "    ax.set_title('alpha values per denticle number, where at least %i of simulations pass (%s iterations)' % (frac, iterations))\n",
    "    ax.set_ylabel('model (alpha value)')\n",
    "    ax.set_xlabel('denticle number')\n",
    "    \n",
    "    sns.despine()\n",
    "\n",
    "fig.savefig(basepath + '/alpha values per denticle number, where at least %i of simulations pass (%s iterations)_grid.svg' % (frac, iterations))"
   ]
  },
  {
   "cell_type": "code",
   "execution_count": null,
   "metadata": {
    "collapsed": false
   },
   "outputs": [],
   "source": [
    "frac = 99\n",
    "passes = fract_data[fract_data.greater >= frac]\n",
    "\n",
    "with sns.axes_style('ticks'):\n",
    "    fig, ax = plt.subplots(figsize=(15,5))\n",
    "\n",
    "    ax.scatter(passes[passes.stage=='Larvae'].dentnumber, passes[passes.stage=='Larvae'].modelnumber, \n",
    "                color='r',marker='o')\n",
    "    ax.scatter(passes[passes.stage=='yw'].dentnumber, passes[passes.stage=='yw'].modelnumber, \n",
    "                color='k',marker='o')\n",
    "\n",
    "    ax.set_xticks(np.arange(0,18))\n",
    "    ax.set_yticks([0.6, 0.667, 0.7, 0.75, 0.8, 0.9, 1.0, 1.1])\n",
    "    \n",
    "    ax.set_xlim(1.5,12.5)\n",
    "    ax.set_ylim(0.59,1.1)\n",
    "    \n",
    "    ax.set_title('alpha values per denticle number, where at least %i of simulations pass (%s iterations)' % (frac, iterations))\n",
    "    ax.set_ylabel('model (alpha value)')\n",
    "    ax.set_xlabel('denticle number')\n",
    "    sns.despine()\n",
    "\n",
    "fig.savefig(basepath +'/alpha values per denticle number, where at least %i of simulations pass (%s iterations).svg' % (frac, iterations))"
   ]
  },
  {
   "cell_type": "markdown",
   "metadata": {},
   "source": [
    "### some checks and validation things"
   ]
  },
  {
   "cell_type": "code",
   "execution_count": null,
   "metadata": {
    "collapsed": false
   },
   "outputs": [],
   "source": [
    "fract_data.describe()"
   ]
  },
  {
   "cell_type": "raw",
   "metadata": {
    "collapsed": true
   },
   "source": [
    "pd.set_option('display.max_rows',100)\n",
    "\n",
    "pt = passes.set_index(['stage','model'])\n",
    "pt.sort_values(by=['dentnumber','modelnumber'])"
   ]
  },
  {
   "cell_type": "code",
   "execution_count": null,
   "metadata": {
    "collapsed": false
   },
   "outputs": [],
   "source": [
    "frac = 95\n",
    "passes = fract_data[fract_data.greater >= frac]\n",
    "\n",
    "fig, ax = plt.subplots(figsize=(15,5))\n",
    "ax.set_xticks(np.arange(0,15))\n",
    "\n",
    "ax.scatter(passes[passes.stage=='Larvae'].dentnumber, passes[passes.stage=='Larvae'].modelnumber, \n",
    "            color='k',marker='o')\n",
    "ax.scatter(passes[passes.stage=='yw'].dentnumber, passes[passes.stage=='yw'].modelnumber, \n",
    "            color='r',marker='o')\n",
    "\n",
    "ax.set_ylim(0,100)\n",
    "sns.despine()\n",
    "\n",
    "fig.savefig('alpha values per denticle number, where at least %i of simulations pass (1000 iterations).png' % frac)"
   ]
  },
  {
   "cell_type": "raw",
   "metadata": {
    "collapsed": false
   },
   "source": [
    "ax = passes[passes.stage=='Larvae'].plot('dentnumber', 'modelnumber', kind='scatter')\n",
    "ax.set_ylim(0,1.1)\n",
    "sns.despine()\n",
    "\n",
    "ax.set_title('Larvae')"
   ]
  },
  {
   "cell_type": "code",
   "execution_count": null,
   "metadata": {
    "collapsed": false
   },
   "outputs": [],
   "source": [
    "with sns.axes_style('ticks'):\n",
    "    frac = 95\n",
    "    passes = fract_data[fract_data.greater >= frac]\n",
    "\n",
    "    fig, ax = plt.subplots(figsize=(15,5))\n",
    "    ax.set_xticks(np.arange(0,15))\n",
    "\n",
    "    ax.scatter(passes[passes.stage=='Larvae'].dentnumber, passes[passes.stage=='Larvae'].modelnumber, \n",
    "                color='k',marker='o')\n",
    "    ax.scatter(passes[passes.stage=='yw'].dentnumber, passes[passes.stage=='yw'].modelnumber, \n",
    "                color='r',marker='o')\n",
    "\n",
    "    ax.set_title('alpha values per denticle number, where at least %i of simulations pass (1000 iterations)' % frac)\n",
    "    ax.set_ylabel('model (alpha value)')\n",
    "    ax.set_xlabel('denticle number')\n",
    "    sns.despine()\n",
    "\n",
    "    fig.savefig('alpha values per denticle number, where at least %i of simulations pass (1000 iterations).png' % frac)"
   ]
  },
  {
   "cell_type": "raw",
   "metadata": {
    "collapsed": false
   },
   "source": [
    "pd.set_option('display.max_rows',100)\n",
    "\n",
    "pt = passes.set_index(['stage','model'])\n",
    "# pt.sort_values(by=['dentnumber','modelnumber'])"
   ]
  }
 ],
 "metadata": {
  "kernelspec": {
   "display_name": "Python [default]",
   "language": "python",
   "name": "python3"
  },
  "language_info": {
   "codemirror_mode": {
    "name": "ipython",
    "version": 3
   },
   "file_extension": ".py",
   "mimetype": "text/x-python",
   "name": "python",
   "nbconvert_exporter": "python",
   "pygments_lexer": "ipython3",
   "version": "3.5.2"
  }
 },
 "nbformat": 4,
 "nbformat_minor": 0
}
