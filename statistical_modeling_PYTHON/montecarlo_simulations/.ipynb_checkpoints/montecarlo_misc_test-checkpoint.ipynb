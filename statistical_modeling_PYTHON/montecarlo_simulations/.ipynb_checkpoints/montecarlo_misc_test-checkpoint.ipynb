{
 "cells": [
  {
   "cell_type": "code",
   "execution_count": 1,
   "metadata": {
    "collapsed": true
   },
   "outputs": [],
   "source": [
    "from __future__ import division\n",
    "from sys import argv\n",
    "import glob\n",
    "import os\n",
    "import itertools\n",
    "import time\n",
    "import string\n",
    "import csv\n",
    "import numpy as np\n",
    "import pandas as pd\n",
    "import scipy.stats as sps\n",
    "import seaborn\n",
    "import matplotlib.pyplot as plt\n",
    "from num2words import num2words\n"
   ]
  },
  {
   "cell_type": "code",
   "execution_count": 3,
   "metadata": {
    "collapsed": false
   },
   "outputs": [],
   "source": [
    "os.getcwd()\n",
    "os.chdir('MonteCarlo_uniformdist_Output_SummedDVlength_20160220_152731/')"
   ]
  },
  {
   "cell_type": "code",
   "execution_count": 6,
   "metadata": {
    "collapsed": true
   },
   "outputs": [],
   "source": [
    "terms = {'same':1,'different':0}"
   ]
  },
  {
   "cell_type": "code",
   "execution_count": 8,
   "metadata": {
    "collapsed": true
   },
   "outputs": [],
   "source": [
    "stats = pd.read_csv('MonteCarlo_absolute_distances_statistics.csv',header=None)"
   ]
  },
  {
   "cell_type": "code",
   "execution_count": 15,
   "metadata": {
    "collapsed": false
   },
   "outputs": [],
   "source": [
    "stats.columns = ['a','ksstat','pval','same','b','c','d']"
   ]
  },
  {
   "cell_type": "code",
   "execution_count": null,
   "metadata": {
    "collapsed": true
   },
   "outputs": [],
   "source": []
  },
  {
   "cell_type": "code",
   "execution_count": 16,
   "metadata": {
    "collapsed": true
   },
   "outputs": [],
   "source": [
    "st = stats.same.map(terms)"
   ]
  },
  {
   "cell_type": "code",
   "execution_count": 18,
   "metadata": {
    "collapsed": false
   },
   "outputs": [
    {
     "data": {
      "text/plain": [
       "0"
      ]
     },
     "execution_count": 18,
     "metadata": {},
     "output_type": "execute_result"
    }
   ],
   "source": [
    "st.sum()"
   ]
  },
  {
   "cell_type": "code",
   "execution_count": 9,
   "metadata": {
    "collapsed": false
   },
   "outputs": [
    {
     "data": {
      "text/html": [
       "<div>\n",
       "<table border=\"1\" class=\"dataframe\">\n",
       "  <thead>\n",
       "    <tr style=\"text-align: right;\">\n",
       "      <th></th>\n",
       "      <th>0</th>\n",
       "      <th>1</th>\n",
       "      <th>2</th>\n",
       "      <th>3</th>\n",
       "      <th>4</th>\n",
       "      <th>5</th>\n",
       "      <th>6</th>\n",
       "    </tr>\n",
       "  </thead>\n",
       "  <tbody>\n",
       "    <tr>\n",
       "      <th>0</th>\n",
       "      <td>AbsoluteDistances</td>\n",
       "      <td>0.347318</td>\n",
       "      <td>5.587245e-145</td>\n",
       "      <td>different</td>\n",
       "      <td>2659667</td>\n",
       "      <td>1.669206e-78</td>\n",
       "      <td>different</td>\n",
       "    </tr>\n",
       "    <tr>\n",
       "      <th>1</th>\n",
       "      <td>AbsoluteDistances</td>\n",
       "      <td>0.326158</td>\n",
       "      <td>6.673415e-128</td>\n",
       "      <td>different</td>\n",
       "      <td>2805840</td>\n",
       "      <td>1.646795e-59</td>\n",
       "      <td>different</td>\n",
       "    </tr>\n",
       "    <tr>\n",
       "      <th>2</th>\n",
       "      <td>AbsoluteDistances</td>\n",
       "      <td>0.349507</td>\n",
       "      <td>8.305173e-147</td>\n",
       "      <td>different</td>\n",
       "      <td>2669428</td>\n",
       "      <td>3.757050e-77</td>\n",
       "      <td>different</td>\n",
       "    </tr>\n",
       "    <tr>\n",
       "      <th>3</th>\n",
       "      <td>AbsoluteDistances</td>\n",
       "      <td>0.346954</td>\n",
       "      <td>1.123887e-144</td>\n",
       "      <td>different</td>\n",
       "      <td>2719550</td>\n",
       "      <td>2.136449e-70</td>\n",
       "      <td>different</td>\n",
       "    </tr>\n",
       "    <tr>\n",
       "      <th>4</th>\n",
       "      <td>AbsoluteDistances</td>\n",
       "      <td>0.351332</td>\n",
       "      <td>2.439881e-148</td>\n",
       "      <td>different</td>\n",
       "      <td>2677316</td>\n",
       "      <td>4.559406e-76</td>\n",
       "      <td>different</td>\n",
       "    </tr>\n",
       "    <tr>\n",
       "      <th>5</th>\n",
       "      <td>AbsoluteDistances</td>\n",
       "      <td>0.340022</td>\n",
       "      <td>5.715956e-139</td>\n",
       "      <td>different</td>\n",
       "      <td>2761041</td>\n",
       "      <td>4.804658e-65</td>\n",
       "      <td>different</td>\n",
       "    </tr>\n",
       "    <tr>\n",
       "      <th>6</th>\n",
       "      <td>AbsoluteDistances</td>\n",
       "      <td>0.345859</td>\n",
       "      <td>9.107179e-144</td>\n",
       "      <td>different</td>\n",
       "      <td>2684770</td>\n",
       "      <td>4.743636e-75</td>\n",
       "      <td>different</td>\n",
       "    </tr>\n",
       "    <tr>\n",
       "      <th>7</th>\n",
       "      <td>AbsoluteDistances</td>\n",
       "      <td>0.355710</td>\n",
       "      <td>4.765179e-152</td>\n",
       "      <td>different</td>\n",
       "      <td>2696436</td>\n",
       "      <td>1.794871e-73</td>\n",
       "      <td>different</td>\n",
       "    </tr>\n",
       "    <tr>\n",
       "      <th>8</th>\n",
       "      <td>AbsoluteDistances</td>\n",
       "      <td>0.346589</td>\n",
       "      <td>2.259065e-144</td>\n",
       "      <td>different</td>\n",
       "      <td>2668512</td>\n",
       "      <td>2.808347e-77</td>\n",
       "      <td>different</td>\n",
       "    </tr>\n",
       "    <tr>\n",
       "      <th>9</th>\n",
       "      <td>AbsoluteDistances</td>\n",
       "      <td>0.332725</td>\n",
       "      <td>4.358946e-133</td>\n",
       "      <td>different</td>\n",
       "      <td>2787047</td>\n",
       "      <td>8.424498e-62</td>\n",
       "      <td>different</td>\n",
       "    </tr>\n",
       "    <tr>\n",
       "      <th>10</th>\n",
       "      <td>AbsoluteDistances</td>\n",
       "      <td>0.346589</td>\n",
       "      <td>2.259065e-144</td>\n",
       "      <td>different</td>\n",
       "      <td>2767452</td>\n",
       "      <td>3.085056e-64</td>\n",
       "      <td>different</td>\n",
       "    </tr>\n",
       "    <tr>\n",
       "      <th>11</th>\n",
       "      <td>AbsoluteDistances</td>\n",
       "      <td>0.344400</td>\n",
       "      <td>1.467121e-142</td>\n",
       "      <td>different</td>\n",
       "      <td>2687518</td>\n",
       "      <td>1.120331e-74</td>\n",
       "      <td>different</td>\n",
       "    </tr>\n",
       "    <tr>\n",
       "      <th>12</th>\n",
       "      <td>AbsoluteDistances</td>\n",
       "      <td>0.344400</td>\n",
       "      <td>1.467121e-142</td>\n",
       "      <td>different</td>\n",
       "      <td>2700727</td>\n",
       "      <td>6.762506e-73</td>\n",
       "      <td>different</td>\n",
       "    </tr>\n",
       "    <tr>\n",
       "      <th>13</th>\n",
       "      <td>AbsoluteDistances</td>\n",
       "      <td>0.345494</td>\n",
       "      <td>1.826556e-143</td>\n",
       "      <td>different</td>\n",
       "      <td>2682205</td>\n",
       "      <td>2.122619e-75</td>\n",
       "      <td>different</td>\n",
       "    </tr>\n",
       "    <tr>\n",
       "      <th>14</th>\n",
       "      <td>AbsoluteDistances</td>\n",
       "      <td>0.340387</td>\n",
       "      <td>2.881541e-139</td>\n",
       "      <td>different</td>\n",
       "      <td>2752051</td>\n",
       "      <td>3.470995e-66</td>\n",
       "      <td>different</td>\n",
       "    </tr>\n",
       "    <tr>\n",
       "      <th>15</th>\n",
       "      <td>AbsoluteDistances</td>\n",
       "      <td>0.330901</td>\n",
       "      <td>1.230318e-131</td>\n",
       "      <td>different</td>\n",
       "      <td>2778264</td>\n",
       "      <td>6.910730e-63</td>\n",
       "      <td>different</td>\n",
       "    </tr>\n",
       "    <tr>\n",
       "      <th>16</th>\n",
       "      <td>AbsoluteDistances</td>\n",
       "      <td>0.334549</td>\n",
       "      <td>1.516250e-134</td>\n",
       "      <td>different</td>\n",
       "      <td>2742256</td>\n",
       "      <td>1.929555e-67</td>\n",
       "      <td>different</td>\n",
       "    </tr>\n",
       "    <tr>\n",
       "      <th>17</th>\n",
       "      <td>AbsoluteDistances</td>\n",
       "      <td>0.346954</td>\n",
       "      <td>1.123887e-144</td>\n",
       "      <td>different</td>\n",
       "      <td>2738225</td>\n",
       "      <td>5.827284e-68</td>\n",
       "      <td>different</td>\n",
       "    </tr>\n",
       "    <tr>\n",
       "      <th>18</th>\n",
       "      <td>AbsoluteDistances</td>\n",
       "      <td>0.363736</td>\n",
       "      <td>5.733377e-159</td>\n",
       "      <td>different</td>\n",
       "      <td>2640412</td>\n",
       "      <td>3.308147e-81</td>\n",
       "      <td>different</td>\n",
       "    </tr>\n",
       "    <tr>\n",
       "      <th>19</th>\n",
       "      <td>AbsoluteDistances</td>\n",
       "      <td>0.347683</td>\n",
       "      <td>2.775580e-145</td>\n",
       "      <td>different</td>\n",
       "      <td>2724166</td>\n",
       "      <td>8.626761e-70</td>\n",
       "      <td>different</td>\n",
       "    </tr>\n",
       "    <tr>\n",
       "      <th>20</th>\n",
       "      <td>AbsoluteDistances</td>\n",
       "      <td>0.336009</td>\n",
       "      <td>1.018920e-135</td>\n",
       "      <td>different</td>\n",
       "      <td>2780735</td>\n",
       "      <td>1.399738e-62</td>\n",
       "      <td>different</td>\n",
       "    </tr>\n",
       "    <tr>\n",
       "      <th>21</th>\n",
       "      <td>AbsoluteDistances</td>\n",
       "      <td>0.342941</td>\n",
       "      <td>2.335846e-141</td>\n",
       "      <td>different</td>\n",
       "      <td>2734007</td>\n",
       "      <td>1.656376e-68</td>\n",
       "      <td>different</td>\n",
       "    </tr>\n",
       "    <tr>\n",
       "      <th>22</th>\n",
       "      <td>AbsoluteDistances</td>\n",
       "      <td>0.352061</td>\n",
       "      <td>5.920301e-149</td>\n",
       "      <td>different</td>\n",
       "      <td>2663820</td>\n",
       "      <td>6.300225e-78</td>\n",
       "      <td>different</td>\n",
       "    </tr>\n",
       "    <tr>\n",
       "      <th>23</th>\n",
       "      <td>AbsoluteDistances</td>\n",
       "      <td>0.347318</td>\n",
       "      <td>5.587245e-145</td>\n",
       "      <td>different</td>\n",
       "      <td>2744674</td>\n",
       "      <td>3.948126e-67</td>\n",
       "      <td>different</td>\n",
       "    </tr>\n",
       "    <tr>\n",
       "      <th>24</th>\n",
       "      <td>AbsoluteDistances</td>\n",
       "      <td>0.347683</td>\n",
       "      <td>2.775580e-145</td>\n",
       "      <td>different</td>\n",
       "      <td>2677445</td>\n",
       "      <td>4.748667e-76</td>\n",
       "      <td>different</td>\n",
       "    </tr>\n",
       "    <tr>\n",
       "      <th>25</th>\n",
       "      <td>AbsoluteDistances</td>\n",
       "      <td>0.355710</td>\n",
       "      <td>4.765179e-152</td>\n",
       "      <td>different</td>\n",
       "      <td>2673985</td>\n",
       "      <td>1.592505e-76</td>\n",
       "      <td>different</td>\n",
       "    </tr>\n",
       "    <tr>\n",
       "      <th>26</th>\n",
       "      <td>AbsoluteDistances</td>\n",
       "      <td>0.352426</td>\n",
       "      <td>2.913083e-149</td>\n",
       "      <td>different</td>\n",
       "      <td>2753412</td>\n",
       "      <td>5.174598e-66</td>\n",
       "      <td>different</td>\n",
       "    </tr>\n",
       "    <tr>\n",
       "      <th>27</th>\n",
       "      <td>AbsoluteDistances</td>\n",
       "      <td>0.335279</td>\n",
       "      <td>3.936348e-135</td>\n",
       "      <td>different</td>\n",
       "      <td>2772586</td>\n",
       "      <td>1.356008e-63</td>\n",
       "      <td>different</td>\n",
       "    </tr>\n",
       "    <tr>\n",
       "      <th>28</th>\n",
       "      <td>AbsoluteDistances</td>\n",
       "      <td>0.348778</td>\n",
       "      <td>3.387721e-146</td>\n",
       "      <td>different</td>\n",
       "      <td>2680263</td>\n",
       "      <td>1.153203e-75</td>\n",
       "      <td>different</td>\n",
       "    </tr>\n",
       "    <tr>\n",
       "      <th>29</th>\n",
       "      <td>AbsoluteDistances</td>\n",
       "      <td>0.357534</td>\n",
       "      <td>1.315178e-153</td>\n",
       "      <td>different</td>\n",
       "      <td>2635833</td>\n",
       "      <td>7.411770e-82</td>\n",
       "      <td>different</td>\n",
       "    </tr>\n",
       "    <tr>\n",
       "      <th>...</th>\n",
       "      <td>...</td>\n",
       "      <td>...</td>\n",
       "      <td>...</td>\n",
       "      <td>...</td>\n",
       "      <td>...</td>\n",
       "      <td>...</td>\n",
       "      <td>...</td>\n",
       "    </tr>\n",
       "    <tr>\n",
       "      <th>9970</th>\n",
       "      <td>AbsoluteDistances</td>\n",
       "      <td>0.348413</td>\n",
       "      <td>6.834531e-146</td>\n",
       "      <td>different</td>\n",
       "      <td>2721387</td>\n",
       "      <td>3.725994e-70</td>\n",
       "      <td>different</td>\n",
       "    </tr>\n",
       "    <tr>\n",
       "      <th>9971</th>\n",
       "      <td>AbsoluteDistances</td>\n",
       "      <td>0.353885</td>\n",
       "      <td>1.695114e-150</td>\n",
       "      <td>different</td>\n",
       "      <td>2719380</td>\n",
       "      <td>2.029165e-70</td>\n",
       "      <td>different</td>\n",
       "    </tr>\n",
       "    <tr>\n",
       "      <th>9972</th>\n",
       "      <td>AbsoluteDistances</td>\n",
       "      <td>0.343670</td>\n",
       "      <td>5.862639e-142</td>\n",
       "      <td>different</td>\n",
       "      <td>2645810</td>\n",
       "      <td>1.914471e-80</td>\n",
       "      <td>different</td>\n",
       "    </tr>\n",
       "    <tr>\n",
       "      <th>9973</th>\n",
       "      <td>AbsoluteDistances</td>\n",
       "      <td>0.344035</td>\n",
       "      <td>2.933858e-142</td>\n",
       "      <td>different</td>\n",
       "      <td>2686627</td>\n",
       "      <td>8.480756e-75</td>\n",
       "      <td>different</td>\n",
       "    </tr>\n",
       "    <tr>\n",
       "      <th>9974</th>\n",
       "      <td>AbsoluteDistances</td>\n",
       "      <td>0.327618</td>\n",
       "      <td>4.798055e-129</td>\n",
       "      <td>different</td>\n",
       "      <td>2818020</td>\n",
       "      <td>4.761622e-58</td>\n",
       "      <td>different</td>\n",
       "    </tr>\n",
       "    <tr>\n",
       "      <th>9975</th>\n",
       "      <td>AbsoluteDistances</td>\n",
       "      <td>0.361182</td>\n",
       "      <td>9.481359e-157</td>\n",
       "      <td>different</td>\n",
       "      <td>2598309</td>\n",
       "      <td>2.795063e-87</td>\n",
       "      <td>different</td>\n",
       "    </tr>\n",
       "    <tr>\n",
       "      <th>9976</th>\n",
       "      <td>AbsoluteDistances</td>\n",
       "      <td>0.340022</td>\n",
       "      <td>5.715956e-139</td>\n",
       "      <td>different</td>\n",
       "      <td>2649057</td>\n",
       "      <td>5.481693e-80</td>\n",
       "      <td>different</td>\n",
       "    </tr>\n",
       "    <tr>\n",
       "      <th>9977</th>\n",
       "      <td>AbsoluteDistances</td>\n",
       "      <td>0.358628</td>\n",
       "      <td>1.512516e-154</td>\n",
       "      <td>different</td>\n",
       "      <td>2685573</td>\n",
       "      <td>6.099213e-75</td>\n",
       "      <td>different</td>\n",
       "    </tr>\n",
       "    <tr>\n",
       "      <th>9978</th>\n",
       "      <td>AbsoluteDistances</td>\n",
       "      <td>0.338198</td>\n",
       "      <td>1.736299e-137</td>\n",
       "      <td>different</td>\n",
       "      <td>2857888</td>\n",
       "      <td>2.135894e-53</td>\n",
       "      <td>different</td>\n",
       "    </tr>\n",
       "    <tr>\n",
       "      <th>9979</th>\n",
       "      <td>AbsoluteDistances</td>\n",
       "      <td>0.352426</td>\n",
       "      <td>2.913083e-149</td>\n",
       "      <td>different</td>\n",
       "      <td>2640906</td>\n",
       "      <td>3.886107e-81</td>\n",
       "      <td>different</td>\n",
       "    </tr>\n",
       "    <tr>\n",
       "      <th>9980</th>\n",
       "      <td>AbsoluteDistances</td>\n",
       "      <td>0.345859</td>\n",
       "      <td>9.107179e-144</td>\n",
       "      <td>different</td>\n",
       "      <td>2687856</td>\n",
       "      <td>1.245053e-74</td>\n",
       "      <td>different</td>\n",
       "    </tr>\n",
       "    <tr>\n",
       "      <th>9981</th>\n",
       "      <td>AbsoluteDistances</td>\n",
       "      <td>0.331996</td>\n",
       "      <td>1.661854e-132</td>\n",
       "      <td>different</td>\n",
       "      <td>2758201</td>\n",
       "      <td>2.100140e-65</td>\n",
       "      <td>different</td>\n",
       "    </tr>\n",
       "    <tr>\n",
       "      <th>9982</th>\n",
       "      <td>AbsoluteDistances</td>\n",
       "      <td>0.360088</td>\n",
       "      <td>8.372482e-156</td>\n",
       "      <td>different</td>\n",
       "      <td>2654436</td>\n",
       "      <td>3.110532e-79</td>\n",
       "      <td>different</td>\n",
       "    </tr>\n",
       "    <tr>\n",
       "      <th>9983</th>\n",
       "      <td>AbsoluteDistances</td>\n",
       "      <td>0.358993</td>\n",
       "      <td>7.344579e-155</td>\n",
       "      <td>different</td>\n",
       "      <td>2630952</td>\n",
       "      <td>1.494510e-82</td>\n",
       "      <td>different</td>\n",
       "    </tr>\n",
       "    <tr>\n",
       "      <th>9984</th>\n",
       "      <td>AbsoluteDistances</td>\n",
       "      <td>0.341116</td>\n",
       "      <td>7.307009e-140</td>\n",
       "      <td>different</td>\n",
       "      <td>2805676</td>\n",
       "      <td>1.573398e-59</td>\n",
       "      <td>different</td>\n",
       "    </tr>\n",
       "    <tr>\n",
       "      <th>9985</th>\n",
       "      <td>AbsoluteDistances</td>\n",
       "      <td>0.353885</td>\n",
       "      <td>1.695114e-150</td>\n",
       "      <td>different</td>\n",
       "      <td>2695186</td>\n",
       "      <td>1.218377e-73</td>\n",
       "      <td>different</td>\n",
       "    </tr>\n",
       "    <tr>\n",
       "      <th>9986</th>\n",
       "      <td>AbsoluteDistances</td>\n",
       "      <td>0.335279</td>\n",
       "      <td>3.936348e-135</td>\n",
       "      <td>different</td>\n",
       "      <td>2794880</td>\n",
       "      <td>7.689407e-61</td>\n",
       "      <td>different</td>\n",
       "    </tr>\n",
       "    <tr>\n",
       "      <th>9987</th>\n",
       "      <td>AbsoluteDistances</td>\n",
       "      <td>0.348048</td>\n",
       "      <td>1.377814e-145</td>\n",
       "      <td>different</td>\n",
       "      <td>2672038</td>\n",
       "      <td>8.598300e-77</td>\n",
       "      <td>different</td>\n",
       "    </tr>\n",
       "    <tr>\n",
       "      <th>9988</th>\n",
       "      <td>AbsoluteDistances</td>\n",
       "      <td>0.339657</td>\n",
       "      <td>1.133011e-138</td>\n",
       "      <td>different</td>\n",
       "      <td>2783678</td>\n",
       "      <td>3.236801e-62</td>\n",
       "      <td>different</td>\n",
       "    </tr>\n",
       "    <tr>\n",
       "      <th>9989</th>\n",
       "      <td>AbsoluteDistances</td>\n",
       "      <td>0.333455</td>\n",
       "      <td>1.139972e-133</td>\n",
       "      <td>different</td>\n",
       "      <td>2764809</td>\n",
       "      <td>1.435322e-64</td>\n",
       "      <td>different</td>\n",
       "    </tr>\n",
       "    <tr>\n",
       "      <th>9990</th>\n",
       "      <td>AbsoluteDistances</td>\n",
       "      <td>0.346589</td>\n",
       "      <td>2.259065e-144</td>\n",
       "      <td>different</td>\n",
       "      <td>2693583</td>\n",
       "      <td>7.408449e-74</td>\n",
       "      <td>different</td>\n",
       "    </tr>\n",
       "    <tr>\n",
       "      <th>9991</th>\n",
       "      <td>AbsoluteDistances</td>\n",
       "      <td>0.342576</td>\n",
       "      <td>4.657376e-141</td>\n",
       "      <td>different</td>\n",
       "      <td>2743959</td>\n",
       "      <td>3.195398e-67</td>\n",
       "      <td>different</td>\n",
       "    </tr>\n",
       "    <tr>\n",
       "      <th>9992</th>\n",
       "      <td>AbsoluteDistances</td>\n",
       "      <td>0.349507</td>\n",
       "      <td>8.305173e-147</td>\n",
       "      <td>different</td>\n",
       "      <td>2719293</td>\n",
       "      <td>1.976356e-70</td>\n",
       "      <td>different</td>\n",
       "    </tr>\n",
       "    <tr>\n",
       "      <th>9993</th>\n",
       "      <td>AbsoluteDistances</td>\n",
       "      <td>0.335644</td>\n",
       "      <td>2.003440e-135</td>\n",
       "      <td>different</td>\n",
       "      <td>2751528</td>\n",
       "      <td>2.976800e-66</td>\n",
       "      <td>different</td>\n",
       "    </tr>\n",
       "    <tr>\n",
       "      <th>9994</th>\n",
       "      <td>AbsoluteDistances</td>\n",
       "      <td>0.367019</td>\n",
       "      <td>7.640766e-162</td>\n",
       "      <td>different</td>\n",
       "      <td>2636183</td>\n",
       "      <td>8.311375e-82</td>\n",
       "      <td>different</td>\n",
       "    </tr>\n",
       "    <tr>\n",
       "      <th>9995</th>\n",
       "      <td>AbsoluteDistances</td>\n",
       "      <td>0.355710</td>\n",
       "      <td>4.765179e-152</td>\n",
       "      <td>different</td>\n",
       "      <td>2708781</td>\n",
       "      <td>8.037139e-72</td>\n",
       "      <td>different</td>\n",
       "    </tr>\n",
       "    <tr>\n",
       "      <th>9996</th>\n",
       "      <td>AbsoluteDistances</td>\n",
       "      <td>0.339292</td>\n",
       "      <td>2.244192e-138</td>\n",
       "      <td>different</td>\n",
       "      <td>2775193</td>\n",
       "      <td>2.867474e-63</td>\n",
       "      <td>different</td>\n",
       "    </tr>\n",
       "    <tr>\n",
       "      <th>9997</th>\n",
       "      <td>AbsoluteDistances</td>\n",
       "      <td>0.350602</td>\n",
       "      <td>1.002577e-147</td>\n",
       "      <td>different</td>\n",
       "      <td>2656836</td>\n",
       "      <td>6.730396e-79</td>\n",
       "      <td>different</td>\n",
       "    </tr>\n",
       "    <tr>\n",
       "      <th>9998</th>\n",
       "      <td>AbsoluteDistances</td>\n",
       "      <td>0.331631</td>\n",
       "      <td>3.241306e-132</td>\n",
       "      <td>different</td>\n",
       "      <td>2759122</td>\n",
       "      <td>2.747364e-65</td>\n",
       "      <td>different</td>\n",
       "    </tr>\n",
       "    <tr>\n",
       "      <th>9999</th>\n",
       "      <td>AbsoluteDistances</td>\n",
       "      <td>0.364830</td>\n",
       "      <td>6.351217e-160</td>\n",
       "      <td>different</td>\n",
       "      <td>2635523</td>\n",
       "      <td>6.696439e-82</td>\n",
       "      <td>different</td>\n",
       "    </tr>\n",
       "  </tbody>\n",
       "</table>\n",
       "<p>10000 rows × 7 columns</p>\n",
       "</div>"
      ],
      "text/plain": [
       "                      0         1              2          3        4  \\\n",
       "0     AbsoluteDistances  0.347318  5.587245e-145  different  2659667   \n",
       "1     AbsoluteDistances  0.326158  6.673415e-128  different  2805840   \n",
       "2     AbsoluteDistances  0.349507  8.305173e-147  different  2669428   \n",
       "3     AbsoluteDistances  0.346954  1.123887e-144  different  2719550   \n",
       "4     AbsoluteDistances  0.351332  2.439881e-148  different  2677316   \n",
       "5     AbsoluteDistances  0.340022  5.715956e-139  different  2761041   \n",
       "6     AbsoluteDistances  0.345859  9.107179e-144  different  2684770   \n",
       "7     AbsoluteDistances  0.355710  4.765179e-152  different  2696436   \n",
       "8     AbsoluteDistances  0.346589  2.259065e-144  different  2668512   \n",
       "9     AbsoluteDistances  0.332725  4.358946e-133  different  2787047   \n",
       "10    AbsoluteDistances  0.346589  2.259065e-144  different  2767452   \n",
       "11    AbsoluteDistances  0.344400  1.467121e-142  different  2687518   \n",
       "12    AbsoluteDistances  0.344400  1.467121e-142  different  2700727   \n",
       "13    AbsoluteDistances  0.345494  1.826556e-143  different  2682205   \n",
       "14    AbsoluteDistances  0.340387  2.881541e-139  different  2752051   \n",
       "15    AbsoluteDistances  0.330901  1.230318e-131  different  2778264   \n",
       "16    AbsoluteDistances  0.334549  1.516250e-134  different  2742256   \n",
       "17    AbsoluteDistances  0.346954  1.123887e-144  different  2738225   \n",
       "18    AbsoluteDistances  0.363736  5.733377e-159  different  2640412   \n",
       "19    AbsoluteDistances  0.347683  2.775580e-145  different  2724166   \n",
       "20    AbsoluteDistances  0.336009  1.018920e-135  different  2780735   \n",
       "21    AbsoluteDistances  0.342941  2.335846e-141  different  2734007   \n",
       "22    AbsoluteDistances  0.352061  5.920301e-149  different  2663820   \n",
       "23    AbsoluteDistances  0.347318  5.587245e-145  different  2744674   \n",
       "24    AbsoluteDistances  0.347683  2.775580e-145  different  2677445   \n",
       "25    AbsoluteDistances  0.355710  4.765179e-152  different  2673985   \n",
       "26    AbsoluteDistances  0.352426  2.913083e-149  different  2753412   \n",
       "27    AbsoluteDistances  0.335279  3.936348e-135  different  2772586   \n",
       "28    AbsoluteDistances  0.348778  3.387721e-146  different  2680263   \n",
       "29    AbsoluteDistances  0.357534  1.315178e-153  different  2635833   \n",
       "...                 ...       ...            ...        ...      ...   \n",
       "9970  AbsoluteDistances  0.348413  6.834531e-146  different  2721387   \n",
       "9971  AbsoluteDistances  0.353885  1.695114e-150  different  2719380   \n",
       "9972  AbsoluteDistances  0.343670  5.862639e-142  different  2645810   \n",
       "9973  AbsoluteDistances  0.344035  2.933858e-142  different  2686627   \n",
       "9974  AbsoluteDistances  0.327618  4.798055e-129  different  2818020   \n",
       "9975  AbsoluteDistances  0.361182  9.481359e-157  different  2598309   \n",
       "9976  AbsoluteDistances  0.340022  5.715956e-139  different  2649057   \n",
       "9977  AbsoluteDistances  0.358628  1.512516e-154  different  2685573   \n",
       "9978  AbsoluteDistances  0.338198  1.736299e-137  different  2857888   \n",
       "9979  AbsoluteDistances  0.352426  2.913083e-149  different  2640906   \n",
       "9980  AbsoluteDistances  0.345859  9.107179e-144  different  2687856   \n",
       "9981  AbsoluteDistances  0.331996  1.661854e-132  different  2758201   \n",
       "9982  AbsoluteDistances  0.360088  8.372482e-156  different  2654436   \n",
       "9983  AbsoluteDistances  0.358993  7.344579e-155  different  2630952   \n",
       "9984  AbsoluteDistances  0.341116  7.307009e-140  different  2805676   \n",
       "9985  AbsoluteDistances  0.353885  1.695114e-150  different  2695186   \n",
       "9986  AbsoluteDistances  0.335279  3.936348e-135  different  2794880   \n",
       "9987  AbsoluteDistances  0.348048  1.377814e-145  different  2672038   \n",
       "9988  AbsoluteDistances  0.339657  1.133011e-138  different  2783678   \n",
       "9989  AbsoluteDistances  0.333455  1.139972e-133  different  2764809   \n",
       "9990  AbsoluteDistances  0.346589  2.259065e-144  different  2693583   \n",
       "9991  AbsoluteDistances  0.342576  4.657376e-141  different  2743959   \n",
       "9992  AbsoluteDistances  0.349507  8.305173e-147  different  2719293   \n",
       "9993  AbsoluteDistances  0.335644  2.003440e-135  different  2751528   \n",
       "9994  AbsoluteDistances  0.367019  7.640766e-162  different  2636183   \n",
       "9995  AbsoluteDistances  0.355710  4.765179e-152  different  2708781   \n",
       "9996  AbsoluteDistances  0.339292  2.244192e-138  different  2775193   \n",
       "9997  AbsoluteDistances  0.350602  1.002577e-147  different  2656836   \n",
       "9998  AbsoluteDistances  0.331631  3.241306e-132  different  2759122   \n",
       "9999  AbsoluteDistances  0.364830  6.351217e-160  different  2635523   \n",
       "\n",
       "                 5          6  \n",
       "0     1.669206e-78  different  \n",
       "1     1.646795e-59  different  \n",
       "2     3.757050e-77  different  \n",
       "3     2.136449e-70  different  \n",
       "4     4.559406e-76  different  \n",
       "5     4.804658e-65  different  \n",
       "6     4.743636e-75  different  \n",
       "7     1.794871e-73  different  \n",
       "8     2.808347e-77  different  \n",
       "9     8.424498e-62  different  \n",
       "10    3.085056e-64  different  \n",
       "11    1.120331e-74  different  \n",
       "12    6.762506e-73  different  \n",
       "13    2.122619e-75  different  \n",
       "14    3.470995e-66  different  \n",
       "15    6.910730e-63  different  \n",
       "16    1.929555e-67  different  \n",
       "17    5.827284e-68  different  \n",
       "18    3.308147e-81  different  \n",
       "19    8.626761e-70  different  \n",
       "20    1.399738e-62  different  \n",
       "21    1.656376e-68  different  \n",
       "22    6.300225e-78  different  \n",
       "23    3.948126e-67  different  \n",
       "24    4.748667e-76  different  \n",
       "25    1.592505e-76  different  \n",
       "26    5.174598e-66  different  \n",
       "27    1.356008e-63  different  \n",
       "28    1.153203e-75  different  \n",
       "29    7.411770e-82  different  \n",
       "...            ...        ...  \n",
       "9970  3.725994e-70  different  \n",
       "9971  2.029165e-70  different  \n",
       "9972  1.914471e-80  different  \n",
       "9973  8.480756e-75  different  \n",
       "9974  4.761622e-58  different  \n",
       "9975  2.795063e-87  different  \n",
       "9976  5.481693e-80  different  \n",
       "9977  6.099213e-75  different  \n",
       "9978  2.135894e-53  different  \n",
       "9979  3.886107e-81  different  \n",
       "9980  1.245053e-74  different  \n",
       "9981  2.100140e-65  different  \n",
       "9982  3.110532e-79  different  \n",
       "9983  1.494510e-82  different  \n",
       "9984  1.573398e-59  different  \n",
       "9985  1.218377e-73  different  \n",
       "9986  7.689407e-61  different  \n",
       "9987  8.598300e-77  different  \n",
       "9988  3.236801e-62  different  \n",
       "9989  1.435322e-64  different  \n",
       "9990  7.408449e-74  different  \n",
       "9991  3.195398e-67  different  \n",
       "9992  1.976356e-70  different  \n",
       "9993  2.976800e-66  different  \n",
       "9994  8.311375e-82  different  \n",
       "9995  8.037139e-72  different  \n",
       "9996  2.867474e-63  different  \n",
       "9997  6.730396e-79  different  \n",
       "9998  2.747364e-65  different  \n",
       "9999  6.696439e-82  different  \n",
       "\n",
       "[10000 rows x 7 columns]"
      ]
     },
     "execution_count": 9,
     "metadata": {},
     "output_type": "execute_result"
    }
   ],
   "source": [
    "stats"
   ]
  },
  {
   "cell_type": "code",
   "execution_count": null,
   "metadata": {
    "collapsed": true
   },
   "outputs": [],
   "source": []
  },
  {
   "cell_type": "code",
   "execution_count": null,
   "metadata": {
    "collapsed": true
   },
   "outputs": [],
   "source": []
  },
  {
   "cell_type": "code",
   "execution_count": 5,
   "metadata": {
    "collapsed": false
   },
   "outputs": [
    {
     "data": {
      "text/plain": [
       "AbsoluteDistances     AbsoluteDistancesAbsoluteDistancesAbsoluteDist...\n",
       "0.347318496899                                                  3455.21\n",
       "5.58724541987e-145                                         1.33779e-119\n",
       "different             differentdifferentdifferentdifferentdifferentd...\n",
       "2659667.0                                                   2.70824e+10\n",
       "1.66920580963e-78                                           9.96905e-49\n",
       "different.1           differentdifferentdifferentdifferentdifferentd...\n",
       "dtype: object"
      ]
     },
     "execution_count": 5,
     "metadata": {},
     "output_type": "execute_result"
    }
   ],
   "source": [
    "stats.ix[1:.sum()"
   ]
  },
  {
   "cell_type": "code",
   "execution_count": null,
   "metadata": {
    "collapsed": true
   },
   "outputs": [],
   "source": []
  },
  {
   "cell_type": "code",
   "execution_count": null,
   "metadata": {
    "collapsed": true
   },
   "outputs": [],
   "source": []
  },
  {
   "cell_type": "code",
   "execution_count": null,
   "metadata": {
    "collapsed": true
   },
   "outputs": [],
   "source": []
  },
  {
   "cell_type": "code",
   "execution_count": null,
   "metadata": {
    "collapsed": true
   },
   "outputs": [],
   "source": [
    "# for jupyter notebook\n",
    "input_file, cells_to_simulate = 'yw_CellbyCell.csv', 1\n",
    "data = pd.read_csv(input_file)\n",
    "\n",
    "\n",
    "# get genotype from filename\n",
    "# split the string at the underscore, returns a list of the parts (no\n",
    "# underscores), take the first/before part\n",
    "genotype = input_file.split('_')[0]\n",
    "\n",
    "\n",
    "# clear out missing data\n",
    "data = data.replace(0, np.nan)       # turn zeros into NaNs\n",
    "# drop any column (axis=0) or row (axis=1) where ALL values are NaN\n",
    "data = data.dropna(how='all')\n",
    "# turn NaNs back into zeros, so arithmetic can be normal for 'true-zero' values\n",
    "data = data.replace(np.nan, 0)\n",
    "# data = data[data.dentincell != 1]   # drop columns where the cell has\n",
    "# only 1 denticle\n",
    "\n",
    "# save the invivo denticle separation distances to a 1xN matrix\n",
    "invivo_d = data.as_matrix(columns=data.columns[10:]).flatten()\n",
    "invivo_d = invivo_d[np.nonzero(invivo_d)]\n",
    "\n",
    "\n",
    "# using the 'absolute' DV length (dist between edge markers):\n",
    "# dvlen_type = 'AbsoluteDVlength'\n",
    "# invivo_ln = pd.DataFrame(data,columns=['dentincell','Dvlen'])\n",
    "# invivo_ln.columns = ['dentincell','dvlength']\n",
    "\n",
    "# using the summed DVlength (sum of dent-edge, dent-dent ... dent-dent,\n",
    "# dent-edge); sum to get the additive, rather than absolute, DV length:\n",
    "dvlen_type = 'SummedDVlength'\n",
    "invivo_ln = pd.DataFrame(data, columns=['dentincell'])\n",
    "invivo_ln['dvlength'] = data['dentEdgeL'] + data['dentEdgeR'] + (data[data.columns[10:]]).sum(axis=1, skipna=True, numeric_only=True)\n",
    "\n",
    "invivo_ln = invivo_ln.T"
   ]
  },
  {
   "cell_type": "code",
   "execution_count": 369,
   "metadata": {
    "collapsed": false
   },
   "outputs": [],
   "source": [
    "def IndivStatTest(simdata, model, filename_out):\n",
    "# IN: 3D np array, list of strings with length=arr[X,:,:] (array axis 0), name of csv file\n",
    "    simdata = simdata[np.nonzero(simdata)]\n",
    "\n",
    "    test_ks = sps.ks_2samp(invivo_d, simdata)\n",
    "    # outputs [ks-statistic, p-value]\n",
    "    # If the K-S statistic is small or the p-value is high, then we cannot reject the hypothesis that the distributions of the two samples are the same.\n",
    "    test_mwu = sps.mannwhitneyu(invivo_d[np.nonzero(invivo_d)], simdata)\n",
    "    # returns [mwu-statistic, p-value];  One-sided p-value assuming a asymptotic normal distribution.\n",
    "    # Use only when the number of observation in each sample is > 20 and you have 2 independent samples of ranks. Mann-Whitney U is significant if the u-obtained is LESS THAN or equal to the critical value of U.\n",
    "    # This test corrects for ties and by default uses a continuity correction. The reported p-value is for a one-sided hypothesis, to get the two-sided p-value multiply the returned p-value by 2.\n",
    "\n",
    "    with open(filename_out, 'a') as f:\n",
    "        csv.writer(f).writerows([[model,  test_ks[0], test_ks[1], TestPasses(test_ks[1], 0.05), test_mwu[0], test_mwu[1], TestPasses(test_mwu[1], 0.05)]])\n",
    "                      \n",
    "\n",
    "def TestPasses(pval, cutoff):\n",
    "    if pval < cutoff: \n",
    "        return 'different'\n",
    "    elif pval >= cutoff: \n",
    "        return 'same'\n",
    "\n"
   ]
  },
  {
   "cell_type": "code",
   "execution_count": 458,
   "metadata": {
    "collapsed": false
   },
   "outputs": [],
   "source": [
    "# maxDent = int(max(invivo_ln.ix['dentincell']))\n",
    "maxDent = 6\n",
    "cells_to_simulate = 4\n",
    "iteration = 0\n",
    "\n",
    "randompositions = np.zeros((len(invivo_ln.T), (cells_to_simulate), maxDent))\n",
    "randomdistances_rel = np.zeros((len(invivo_ln.T), (cells_to_simulate), (maxDent-1)))\n",
    "randomdistances_abs = np.zeros((len(invivo_ln.T), (cells_to_simulate), (maxDent-1)))\n",
    "\n",
    "# randompositions[:,0:2,0] = invivo_ln.T\n",
    "\n",
    "info = invivo_ln.T\n",
    "\n",
    "\n",
    "# generate random positions\n",
    "for iteration in range(0, int(cells_to_simulate)):\n",
    "    \n",
    "    ittime = time.clock()\n",
    "    \n",
    "    positions = np.zeros((len(invivo_ln.T),maxDent))\n",
    "    \n",
    "    for dex, cellinfo in enumerate(invivo_ln.T.values):\n",
    "        denticlenumber, celllength = cellinfo\n",
    "        denticlenumber = int(denticlenumber)\n",
    "\n",
    "        positions[dex,:denticlenumber] = np.sort(np.random.rand(int(denticlenumber)),axis=0)\n",
    "    \n",
    "    # sort smallest to largest\n",
    "    relativedistances = positions[:,1:] - positions[:, 0:-1]\n",
    "    relativedistances[relativedistances<0] = 0 \n",
    "    # calculate the distance between the points\n",
    "    absolutedistances =(info.dvlength.values * relativedistances.T).T\n",
    "\n",
    "    IndivStatTest(absolutedistances.reshape(absolutedistances.size,1), 'AbsoluteDistances','MonteCarlo_absdist.csv')\n",
    "\n",
    "    np.savetxt(genotype +'_'+str(iteration) +'_relativepositions_' + dvlen_type +'_'+ time.strftime(\"%Y%m%d_%H%M%S\") + '_iterationtime=' + str(elapsedtime) + '.csv',positions,delimiter=',')\n",
    "    np.savetxt(genotype +'_'+str(iteration) +'_'+'_relativedistances_' + dvlen_type +'_'+ time.strftime(\"%Y%m%d_%H%M%S\") + '_iterationtime=' + str(elapsedtime) + '.csv',relativedistances,delimiter=',')\n",
    "    \n",
    "    \n",
    "    adframe = pd.DataFrame(np.concatenate([info.values, absolutedistances], axis=1),columns=[['dentincell','celllength']+list(string.ascii_lowercase[:maxDent-1])])\n",
    "    adframe['dentword'] = ad_frame.dentincell.map(lambda x: num2words.num2words(x))\n",
    "    adframe = adframe.drop('dentincell',axis=1)\n",
    "    adframe = adframe.replace(0,np.nan)\n",
    "    adframe = adframe.set_index(['dentword','celllength'])\n",
    "    adframe = adframe.sort_index(axis=0)\n",
    "    adframe = adframe.stack()\n",
    "    \n",
    "    adframe.to_csv(genotype +'_'+ str(iteration) + '_MonteCarlo_absolute_distances_' + dvlen_type +'_'+ time.strftime(\"%Y%m%d_%H%M%S\") + '_iterationtime=' + str(elapsedtime) + '.csv')\n",
    "\n",
    "\n",
    "    \n",
    "    for number in (num2words.num2words(x) for x in range(1,maxDent)):\n",
    "        dentnumb = adframe[number]\n",
    "        dentnumb.to_csv(genotype+'_'+number+'_absolute_distances.csv')\n"
   ]
  },
  {
   "cell_type": "code",
   "execution_count": 465,
   "metadata": {
    "collapsed": false
   },
   "outputs": [],
   "source": [
    "for number in (num2words.num2words(x) for x in range(1,maxDent)):\n",
    "    dentnumb = adframe[number]\n",
    "    dentnumb.to_csv(genotype+'_'+number+'_absolute_distances.csv')\n"
   ]
  },
  {
   "cell_type": "code",
   "execution_count": 466,
   "metadata": {
    "collapsed": false
   },
   "outputs": [
    {
     "data": {
      "text/plain": [
       "celllength   \n",
       "9.67718     a    1.659946\n",
       "            b    2.066415\n",
       "            c    0.160126\n",
       "            d    3.689835\n",
       "            a    0.016149\n",
       "            b    1.121398\n",
       "            c    0.245377\n",
       "            d    4.607272\n",
       "10.21517    a    0.125799\n",
       "            b    0.262658\n",
       "            c    2.512803\n",
       "            d    3.295522\n",
       "10.41745    a    1.221223\n",
       "            b    2.006036\n",
       "            c    2.636347\n",
       "            d    0.131533\n",
       "10.51450    a    2.042553\n",
       "            b    2.293802\n",
       "            c    0.718075\n",
       "            d    0.537345\n",
       "10.53762    a    0.671986\n",
       "            b    1.604401\n",
       "            c    2.720298\n",
       "            d    2.162862\n",
       "10.96350    a    1.478867\n",
       "            b    2.097462\n",
       "            c    2.756109\n",
       "            d    0.593485\n",
       "11.06340    a    0.814446\n",
       "            b    2.697442\n",
       "                   ...   \n",
       "17.78640    c    4.086276\n",
       "            d    5.550086\n",
       "18.19690    a    3.540237\n",
       "            b    2.515269\n",
       "            c    3.729032\n",
       "            d    2.645921\n",
       "18.24600    a    0.447654\n",
       "            b    0.286859\n",
       "            c    1.619027\n",
       "            d    3.820170\n",
       "18.51760    a    8.961437\n",
       "            b    0.236213\n",
       "            c    1.639815\n",
       "            d    0.204872\n",
       "18.69580    a    0.858045\n",
       "            b    1.925537\n",
       "            c    4.697373\n",
       "            d    2.623577\n",
       "18.71490    a    3.119482\n",
       "            b    2.552434\n",
       "            c    0.946630\n",
       "            d    1.146220\n",
       "19.16300    a    0.522947\n",
       "            b    0.285079\n",
       "            c    5.431250\n",
       "            d    0.874135\n",
       "23.10970    a    1.222795\n",
       "            b    1.013146\n",
       "            c    7.389611\n",
       "            d    5.012776\n",
       "dtype: float64"
      ]
     },
     "execution_count": 466,
     "metadata": {},
     "output_type": "execute_result"
    }
   ],
   "source": [
    "dentnumb"
   ]
  },
  {
   "cell_type": "code",
   "execution_count": null,
   "metadata": {
    "collapsed": true
   },
   "outputs": [],
   "source": []
  },
  {
   "cell_type": "code",
   "execution_count": null,
   "metadata": {
    "collapsed": true
   },
   "outputs": [],
   "source": []
  },
  {
   "cell_type": "code",
   "execution_count": null,
   "metadata": {
    "collapsed": true
   },
   "outputs": [],
   "source": []
  },
  {
   "cell_type": "code",
   "execution_count": null,
   "metadata": {
    "collapsed": true
   },
   "outputs": [],
   "source": []
  },
  {
   "cell_type": "code",
   "execution_count": null,
   "metadata": {
    "collapsed": true
   },
   "outputs": [],
   "source": []
  },
  {
   "cell_type": "code",
   "execution_count": null,
   "metadata": {
    "collapsed": true
   },
   "outputs": [],
   "source": []
  },
  {
   "cell_type": "code",
   "execution_count": 463,
   "metadata": {
    "collapsed": false
   },
   "outputs": [
    {
     "data": {
      "text/plain": [
       "['one', 'two', 'three', 'four', 'five']"
      ]
     },
     "execution_count": 463,
     "metadata": {},
     "output_type": "execute_result"
    }
   ],
   "source": [
    "a = list(num2words.num2words(x) for x in range(1,maxDent))\n",
    "a"
   ]
  },
  {
   "cell_type": "code",
   "execution_count": 373,
   "metadata": {
    "collapsed": false
   },
   "outputs": [
    {
     "data": {
      "text/plain": [
       "array([[ 1.31277041,  0.        ,  0.        ,  0.        ,  0.        ],\n",
       "       [ 0.45327546,  0.        ,  0.        ,  0.        ,  0.        ],\n",
       "       [ 5.83897091,  3.20982497,  0.        ,  0.        ,  0.        ],\n",
       "       ..., \n",
       "       [ 0.19579841,  0.25255789,  0.92068801,  0.        ,  0.        ],\n",
       "       [ 0.24121981,  2.13581543,  0.41587206,  0.        ,  0.        ],\n",
       "       [ 0.67081088,  1.40168191,  0.        ,  0.        ,  0.        ]])"
      ]
     },
     "execution_count": 373,
     "metadata": {},
     "output_type": "execute_result"
    }
   ],
   "source": [
    "absolutedistances"
   ]
  },
  {
   "cell_type": "code",
   "execution_count": 386,
   "metadata": {
    "collapsed": false
   },
   "outputs": [],
   "source": [
    "ad_frame = pd.DataFrame(np.concatenate([info.values, absolutedistances], axis=1),columns=[['dentincell','celllength']+list(string.ascii_lowercase[:maxDent-1])])"
   ]
  },
  {
   "cell_type": "code",
   "execution_count": 385,
   "metadata": {
    "collapsed": false
   },
   "outputs": [
    {
     "data": {
      "text/plain": [
       "['dentincell', 'celllength', 'a', 'b', 'c', 'd', 'e']"
      ]
     },
     "execution_count": 385,
     "metadata": {},
     "output_type": "execute_result"
    }
   ],
   "source": [
    "['dentincell','celllength']+list(string.ascii_lowercase[:maxDent-1])"
   ]
  },
  {
   "cell_type": "code",
   "execution_count": null,
   "metadata": {
    "collapsed": true
   },
   "outputs": [],
   "source": []
  },
  {
   "cell_type": "code",
   "execution_count": 377,
   "metadata": {
    "collapsed": false
   },
   "outputs": [
    {
     "data": {
      "text/plain": [
       "((3092, 2), (3092, 5))"
      ]
     },
     "execution_count": 377,
     "metadata": {},
     "output_type": "execute_result"
    }
   ],
   "source": [
    "info.values.shape, absolutedistances.shape"
   ]
  },
  {
   "cell_type": "code",
   "execution_count": 424,
   "metadata": {
    "collapsed": false
   },
   "outputs": [],
   "source": [
    "ad_frame['dentword'] = ad_frame.dentincell.map(lambda x: num2words.num2words(x))\n",
    "\n",
    "ad_frame = ad_frame.replace(0,np.nan)\n",
    "\n",
    "ad_frame2 = ad_frame\n",
    "ad_frame.columns\n",
    "\n",
    "ad_frame2 = ad_frame2.set_index(['dentword','celllength'])\n",
    "\n",
    "ad_frame2 = ad_frame2.sort_index(axis=0)\n",
    "\n",
    "ad_frame2.drop('dentincell',axis=1, inplace=True)"
   ]
  },
  {
   "cell_type": "code",
   "execution_count": 425,
   "metadata": {
    "collapsed": false
   },
   "outputs": [
    {
     "data": {
      "text/html": [
       "<div>\n",
       "<table border=\"1\" class=\"dataframe\">\n",
       "  <thead>\n",
       "    <tr style=\"text-align: right;\">\n",
       "      <th></th>\n",
       "      <th></th>\n",
       "      <th>a</th>\n",
       "      <th>b</th>\n",
       "      <th>c</th>\n",
       "      <th>d</th>\n",
       "      <th>e</th>\n",
       "    </tr>\n",
       "    <tr>\n",
       "      <th>dentword</th>\n",
       "      <th>celllength</th>\n",
       "      <th></th>\n",
       "      <th></th>\n",
       "      <th></th>\n",
       "      <th></th>\n",
       "      <th></th>\n",
       "    </tr>\n",
       "  </thead>\n",
       "  <tbody>\n",
       "    <tr>\n",
       "      <th rowspan=\"30\" valign=\"top\">five</th>\n",
       "      <th>9.67718</th>\n",
       "      <td>3.828522</td>\n",
       "      <td>2.871234</td>\n",
       "      <td>0.355452</td>\n",
       "      <td>1.042493</td>\n",
       "      <td>NaN</td>\n",
       "    </tr>\n",
       "    <tr>\n",
       "      <th>9.67718</th>\n",
       "      <td>2.402419</td>\n",
       "      <td>3.286663</td>\n",
       "      <td>0.802451</td>\n",
       "      <td>0.735989</td>\n",
       "      <td>NaN</td>\n",
       "    </tr>\n",
       "    <tr>\n",
       "      <th>10.21517</th>\n",
       "      <td>0.783379</td>\n",
       "      <td>4.772773</td>\n",
       "      <td>2.165122</td>\n",
       "      <td>2.062015</td>\n",
       "      <td>NaN</td>\n",
       "    </tr>\n",
       "    <tr>\n",
       "      <th>10.41745</th>\n",
       "      <td>0.164591</td>\n",
       "      <td>4.594247</td>\n",
       "      <td>0.267190</td>\n",
       "      <td>4.204657</td>\n",
       "      <td>NaN</td>\n",
       "    </tr>\n",
       "    <tr>\n",
       "      <th>10.51450</th>\n",
       "      <td>2.864351</td>\n",
       "      <td>0.468276</td>\n",
       "      <td>0.527729</td>\n",
       "      <td>0.642132</td>\n",
       "      <td>NaN</td>\n",
       "    </tr>\n",
       "    <tr>\n",
       "      <th>10.53762</th>\n",
       "      <td>0.048563</td>\n",
       "      <td>2.489708</td>\n",
       "      <td>1.237831</td>\n",
       "      <td>1.047637</td>\n",
       "      <td>NaN</td>\n",
       "    </tr>\n",
       "    <tr>\n",
       "      <th>10.96350</th>\n",
       "      <td>3.928547</td>\n",
       "      <td>2.187833</td>\n",
       "      <td>1.664557</td>\n",
       "      <td>2.209698</td>\n",
       "      <td>NaN</td>\n",
       "    </tr>\n",
       "    <tr>\n",
       "      <th>11.06340</th>\n",
       "      <td>4.469184</td>\n",
       "      <td>1.530701</td>\n",
       "      <td>0.697426</td>\n",
       "      <td>1.895386</td>\n",
       "      <td>NaN</td>\n",
       "    </tr>\n",
       "    <tr>\n",
       "      <th>11.07281</th>\n",
       "      <td>2.645895</td>\n",
       "      <td>0.131380</td>\n",
       "      <td>2.097610</td>\n",
       "      <td>1.616655</td>\n",
       "      <td>NaN</td>\n",
       "    </tr>\n",
       "    <tr>\n",
       "      <th>11.22730</th>\n",
       "      <td>1.332680</td>\n",
       "      <td>0.366858</td>\n",
       "      <td>3.616972</td>\n",
       "      <td>2.443087</td>\n",
       "      <td>NaN</td>\n",
       "    </tr>\n",
       "    <tr>\n",
       "      <th>11.42990</th>\n",
       "      <td>0.203648</td>\n",
       "      <td>0.291427</td>\n",
       "      <td>1.244580</td>\n",
       "      <td>5.675577</td>\n",
       "      <td>NaN</td>\n",
       "    </tr>\n",
       "    <tr>\n",
       "      <th>11.67750</th>\n",
       "      <td>3.614705</td>\n",
       "      <td>0.289535</td>\n",
       "      <td>0.490944</td>\n",
       "      <td>1.899235</td>\n",
       "      <td>NaN</td>\n",
       "    </tr>\n",
       "    <tr>\n",
       "      <th>12.04870</th>\n",
       "      <td>1.940853</td>\n",
       "      <td>1.426006</td>\n",
       "      <td>1.529915</td>\n",
       "      <td>6.117114</td>\n",
       "      <td>NaN</td>\n",
       "    </tr>\n",
       "    <tr>\n",
       "      <th>12.09701</th>\n",
       "      <td>0.972421</td>\n",
       "      <td>2.772569</td>\n",
       "      <td>0.424236</td>\n",
       "      <td>3.407286</td>\n",
       "      <td>NaN</td>\n",
       "    </tr>\n",
       "    <tr>\n",
       "      <th>12.16500</th>\n",
       "      <td>1.277424</td>\n",
       "      <td>0.024706</td>\n",
       "      <td>3.179137</td>\n",
       "      <td>0.369212</td>\n",
       "      <td>NaN</td>\n",
       "    </tr>\n",
       "    <tr>\n",
       "      <th>12.48030</th>\n",
       "      <td>0.886150</td>\n",
       "      <td>2.022908</td>\n",
       "      <td>1.988939</td>\n",
       "      <td>5.441669</td>\n",
       "      <td>NaN</td>\n",
       "    </tr>\n",
       "    <tr>\n",
       "      <th>12.63780</th>\n",
       "      <td>4.041213</td>\n",
       "      <td>0.269960</td>\n",
       "      <td>1.270017</td>\n",
       "      <td>1.766618</td>\n",
       "      <td>NaN</td>\n",
       "    </tr>\n",
       "    <tr>\n",
       "      <th>12.76749</th>\n",
       "      <td>0.632161</td>\n",
       "      <td>2.648148</td>\n",
       "      <td>2.738735</td>\n",
       "      <td>2.512870</td>\n",
       "      <td>NaN</td>\n",
       "    </tr>\n",
       "    <tr>\n",
       "      <th>12.80940</th>\n",
       "      <td>1.200181</td>\n",
       "      <td>7.535931</td>\n",
       "      <td>0.638466</td>\n",
       "      <td>2.036141</td>\n",
       "      <td>NaN</td>\n",
       "    </tr>\n",
       "    <tr>\n",
       "      <th>12.84940</th>\n",
       "      <td>3.808293</td>\n",
       "      <td>0.514118</td>\n",
       "      <td>0.016913</td>\n",
       "      <td>4.484419</td>\n",
       "      <td>NaN</td>\n",
       "    </tr>\n",
       "    <tr>\n",
       "      <th>13.05080</th>\n",
       "      <td>3.090497</td>\n",
       "      <td>1.473241</td>\n",
       "      <td>1.600133</td>\n",
       "      <td>1.522388</td>\n",
       "      <td>NaN</td>\n",
       "    </tr>\n",
       "    <tr>\n",
       "      <th>13.06470</th>\n",
       "      <td>1.067093</td>\n",
       "      <td>0.281919</td>\n",
       "      <td>2.490658</td>\n",
       "      <td>6.141534</td>\n",
       "      <td>NaN</td>\n",
       "    </tr>\n",
       "    <tr>\n",
       "      <th>13.18580</th>\n",
       "      <td>1.399770</td>\n",
       "      <td>3.557556</td>\n",
       "      <td>2.664825</td>\n",
       "      <td>0.047595</td>\n",
       "      <td>NaN</td>\n",
       "    </tr>\n",
       "    <tr>\n",
       "      <th>13.24520</th>\n",
       "      <td>1.411969</td>\n",
       "      <td>1.769969</td>\n",
       "      <td>3.613478</td>\n",
       "      <td>3.605749</td>\n",
       "      <td>NaN</td>\n",
       "    </tr>\n",
       "    <tr>\n",
       "      <th>13.37472</th>\n",
       "      <td>2.033891</td>\n",
       "      <td>0.411309</td>\n",
       "      <td>1.183861</td>\n",
       "      <td>0.097300</td>\n",
       "      <td>NaN</td>\n",
       "    </tr>\n",
       "    <tr>\n",
       "      <th>13.38670</th>\n",
       "      <td>3.965328</td>\n",
       "      <td>1.136020</td>\n",
       "      <td>0.888077</td>\n",
       "      <td>2.995084</td>\n",
       "      <td>NaN</td>\n",
       "    </tr>\n",
       "    <tr>\n",
       "      <th>13.52500</th>\n",
       "      <td>1.073605</td>\n",
       "      <td>2.078142</td>\n",
       "      <td>4.446620</td>\n",
       "      <td>0.808212</td>\n",
       "      <td>NaN</td>\n",
       "    </tr>\n",
       "    <tr>\n",
       "      <th>13.53526</th>\n",
       "      <td>1.759331</td>\n",
       "      <td>0.725860</td>\n",
       "      <td>4.123947</td>\n",
       "      <td>3.121908</td>\n",
       "      <td>NaN</td>\n",
       "    </tr>\n",
       "    <tr>\n",
       "      <th>13.60707</th>\n",
       "      <td>5.029873</td>\n",
       "      <td>1.299504</td>\n",
       "      <td>0.775014</td>\n",
       "      <td>3.256749</td>\n",
       "      <td>NaN</td>\n",
       "    </tr>\n",
       "    <tr>\n",
       "      <th>13.63820</th>\n",
       "      <td>0.206922</td>\n",
       "      <td>3.980435</td>\n",
       "      <td>4.665208</td>\n",
       "      <td>1.818099</td>\n",
       "      <td>NaN</td>\n",
       "    </tr>\n",
       "    <tr>\n",
       "      <th>...</th>\n",
       "      <th>...</th>\n",
       "      <td>...</td>\n",
       "      <td>...</td>\n",
       "      <td>...</td>\n",
       "      <td>...</td>\n",
       "      <td>...</td>\n",
       "    </tr>\n",
       "    <tr>\n",
       "      <th rowspan=\"30\" valign=\"top\">two</th>\n",
       "      <th>14.43170</th>\n",
       "      <td>5.469604</td>\n",
       "      <td>NaN</td>\n",
       "      <td>NaN</td>\n",
       "      <td>NaN</td>\n",
       "      <td>NaN</td>\n",
       "    </tr>\n",
       "    <tr>\n",
       "      <th>14.47050</th>\n",
       "      <td>1.318760</td>\n",
       "      <td>NaN</td>\n",
       "      <td>NaN</td>\n",
       "      <td>NaN</td>\n",
       "      <td>NaN</td>\n",
       "    </tr>\n",
       "    <tr>\n",
       "      <th>14.55290</th>\n",
       "      <td>3.972786</td>\n",
       "      <td>NaN</td>\n",
       "      <td>NaN</td>\n",
       "      <td>NaN</td>\n",
       "      <td>NaN</td>\n",
       "    </tr>\n",
       "    <tr>\n",
       "      <th>14.59680</th>\n",
       "      <td>0.684392</td>\n",
       "      <td>NaN</td>\n",
       "      <td>NaN</td>\n",
       "      <td>NaN</td>\n",
       "      <td>NaN</td>\n",
       "    </tr>\n",
       "    <tr>\n",
       "      <th>14.71280</th>\n",
       "      <td>10.758311</td>\n",
       "      <td>NaN</td>\n",
       "      <td>NaN</td>\n",
       "      <td>NaN</td>\n",
       "      <td>NaN</td>\n",
       "    </tr>\n",
       "    <tr>\n",
       "      <th>14.78700</th>\n",
       "      <td>1.941473</td>\n",
       "      <td>NaN</td>\n",
       "      <td>NaN</td>\n",
       "      <td>NaN</td>\n",
       "      <td>NaN</td>\n",
       "    </tr>\n",
       "    <tr>\n",
       "      <th>14.84730</th>\n",
       "      <td>7.239552</td>\n",
       "      <td>NaN</td>\n",
       "      <td>NaN</td>\n",
       "      <td>NaN</td>\n",
       "      <td>NaN</td>\n",
       "    </tr>\n",
       "    <tr>\n",
       "      <th>15.04140</th>\n",
       "      <td>2.011138</td>\n",
       "      <td>NaN</td>\n",
       "      <td>NaN</td>\n",
       "      <td>NaN</td>\n",
       "      <td>NaN</td>\n",
       "    </tr>\n",
       "    <tr>\n",
       "      <th>15.07880</th>\n",
       "      <td>0.987775</td>\n",
       "      <td>NaN</td>\n",
       "      <td>NaN</td>\n",
       "      <td>NaN</td>\n",
       "      <td>NaN</td>\n",
       "    </tr>\n",
       "    <tr>\n",
       "      <th>15.13270</th>\n",
       "      <td>9.980307</td>\n",
       "      <td>NaN</td>\n",
       "      <td>NaN</td>\n",
       "      <td>NaN</td>\n",
       "      <td>NaN</td>\n",
       "    </tr>\n",
       "    <tr>\n",
       "      <th>15.14630</th>\n",
       "      <td>11.445231</td>\n",
       "      <td>NaN</td>\n",
       "      <td>NaN</td>\n",
       "      <td>NaN</td>\n",
       "      <td>NaN</td>\n",
       "    </tr>\n",
       "    <tr>\n",
       "      <th>15.32270</th>\n",
       "      <td>4.530592</td>\n",
       "      <td>NaN</td>\n",
       "      <td>NaN</td>\n",
       "      <td>NaN</td>\n",
       "      <td>NaN</td>\n",
       "    </tr>\n",
       "    <tr>\n",
       "      <th>15.36940</th>\n",
       "      <td>4.961876</td>\n",
       "      <td>NaN</td>\n",
       "      <td>NaN</td>\n",
       "      <td>NaN</td>\n",
       "      <td>NaN</td>\n",
       "    </tr>\n",
       "    <tr>\n",
       "      <th>15.37030</th>\n",
       "      <td>5.902896</td>\n",
       "      <td>NaN</td>\n",
       "      <td>NaN</td>\n",
       "      <td>NaN</td>\n",
       "      <td>NaN</td>\n",
       "    </tr>\n",
       "    <tr>\n",
       "      <th>15.46460</th>\n",
       "      <td>6.914277</td>\n",
       "      <td>NaN</td>\n",
       "      <td>NaN</td>\n",
       "      <td>NaN</td>\n",
       "      <td>NaN</td>\n",
       "    </tr>\n",
       "    <tr>\n",
       "      <th>15.83390</th>\n",
       "      <td>0.959342</td>\n",
       "      <td>NaN</td>\n",
       "      <td>NaN</td>\n",
       "      <td>NaN</td>\n",
       "      <td>NaN</td>\n",
       "    </tr>\n",
       "    <tr>\n",
       "      <th>15.83440</th>\n",
       "      <td>11.476654</td>\n",
       "      <td>NaN</td>\n",
       "      <td>NaN</td>\n",
       "      <td>NaN</td>\n",
       "      <td>NaN</td>\n",
       "    </tr>\n",
       "    <tr>\n",
       "      <th>15.88760</th>\n",
       "      <td>8.808612</td>\n",
       "      <td>NaN</td>\n",
       "      <td>NaN</td>\n",
       "      <td>NaN</td>\n",
       "      <td>NaN</td>\n",
       "    </tr>\n",
       "    <tr>\n",
       "      <th>15.97420</th>\n",
       "      <td>7.856730</td>\n",
       "      <td>NaN</td>\n",
       "      <td>NaN</td>\n",
       "      <td>NaN</td>\n",
       "      <td>NaN</td>\n",
       "    </tr>\n",
       "    <tr>\n",
       "      <th>16.27840</th>\n",
       "      <td>5.518533</td>\n",
       "      <td>NaN</td>\n",
       "      <td>NaN</td>\n",
       "      <td>NaN</td>\n",
       "      <td>NaN</td>\n",
       "    </tr>\n",
       "    <tr>\n",
       "      <th>16.36160</th>\n",
       "      <td>0.817832</td>\n",
       "      <td>NaN</td>\n",
       "      <td>NaN</td>\n",
       "      <td>NaN</td>\n",
       "      <td>NaN</td>\n",
       "    </tr>\n",
       "    <tr>\n",
       "      <th>16.93880</th>\n",
       "      <td>5.822191</td>\n",
       "      <td>NaN</td>\n",
       "      <td>NaN</td>\n",
       "      <td>NaN</td>\n",
       "      <td>NaN</td>\n",
       "    </tr>\n",
       "    <tr>\n",
       "      <th>17.08130</th>\n",
       "      <td>0.503493</td>\n",
       "      <td>NaN</td>\n",
       "      <td>NaN</td>\n",
       "      <td>NaN</td>\n",
       "      <td>NaN</td>\n",
       "    </tr>\n",
       "    <tr>\n",
       "      <th>17.11750</th>\n",
       "      <td>3.287683</td>\n",
       "      <td>NaN</td>\n",
       "      <td>NaN</td>\n",
       "      <td>NaN</td>\n",
       "      <td>NaN</td>\n",
       "    </tr>\n",
       "    <tr>\n",
       "      <th>17.29230</th>\n",
       "      <td>14.173894</td>\n",
       "      <td>NaN</td>\n",
       "      <td>NaN</td>\n",
       "      <td>NaN</td>\n",
       "      <td>NaN</td>\n",
       "    </tr>\n",
       "    <tr>\n",
       "      <th>18.26680</th>\n",
       "      <td>8.795424</td>\n",
       "      <td>NaN</td>\n",
       "      <td>NaN</td>\n",
       "      <td>NaN</td>\n",
       "      <td>NaN</td>\n",
       "    </tr>\n",
       "    <tr>\n",
       "      <th>19.13400</th>\n",
       "      <td>5.052840</td>\n",
       "      <td>NaN</td>\n",
       "      <td>NaN</td>\n",
       "      <td>NaN</td>\n",
       "      <td>NaN</td>\n",
       "    </tr>\n",
       "    <tr>\n",
       "      <th>19.36980</th>\n",
       "      <td>6.038775</td>\n",
       "      <td>NaN</td>\n",
       "      <td>NaN</td>\n",
       "      <td>NaN</td>\n",
       "      <td>NaN</td>\n",
       "    </tr>\n",
       "    <tr>\n",
       "      <th>20.37980</th>\n",
       "      <td>11.267017</td>\n",
       "      <td>NaN</td>\n",
       "      <td>NaN</td>\n",
       "      <td>NaN</td>\n",
       "      <td>NaN</td>\n",
       "    </tr>\n",
       "    <tr>\n",
       "      <th>20.53000</th>\n",
       "      <td>5.736310</td>\n",
       "      <td>NaN</td>\n",
       "      <td>NaN</td>\n",
       "      <td>NaN</td>\n",
       "      <td>NaN</td>\n",
       "    </tr>\n",
       "  </tbody>\n",
       "</table>\n",
       "<p>3092 rows × 5 columns</p>\n",
       "</div>"
      ],
      "text/plain": [
       "                             a         b         c         d   e\n",
       "dentword celllength                                             \n",
       "five     9.67718      3.828522  2.871234  0.355452  1.042493 NaN\n",
       "         9.67718      2.402419  3.286663  0.802451  0.735989 NaN\n",
       "         10.21517     0.783379  4.772773  2.165122  2.062015 NaN\n",
       "         10.41745     0.164591  4.594247  0.267190  4.204657 NaN\n",
       "         10.51450     2.864351  0.468276  0.527729  0.642132 NaN\n",
       "         10.53762     0.048563  2.489708  1.237831  1.047637 NaN\n",
       "         10.96350     3.928547  2.187833  1.664557  2.209698 NaN\n",
       "         11.06340     4.469184  1.530701  0.697426  1.895386 NaN\n",
       "         11.07281     2.645895  0.131380  2.097610  1.616655 NaN\n",
       "         11.22730     1.332680  0.366858  3.616972  2.443087 NaN\n",
       "         11.42990     0.203648  0.291427  1.244580  5.675577 NaN\n",
       "         11.67750     3.614705  0.289535  0.490944  1.899235 NaN\n",
       "         12.04870     1.940853  1.426006  1.529915  6.117114 NaN\n",
       "         12.09701     0.972421  2.772569  0.424236  3.407286 NaN\n",
       "         12.16500     1.277424  0.024706  3.179137  0.369212 NaN\n",
       "         12.48030     0.886150  2.022908  1.988939  5.441669 NaN\n",
       "         12.63780     4.041213  0.269960  1.270017  1.766618 NaN\n",
       "         12.76749     0.632161  2.648148  2.738735  2.512870 NaN\n",
       "         12.80940     1.200181  7.535931  0.638466  2.036141 NaN\n",
       "         12.84940     3.808293  0.514118  0.016913  4.484419 NaN\n",
       "         13.05080     3.090497  1.473241  1.600133  1.522388 NaN\n",
       "         13.06470     1.067093  0.281919  2.490658  6.141534 NaN\n",
       "         13.18580     1.399770  3.557556  2.664825  0.047595 NaN\n",
       "         13.24520     1.411969  1.769969  3.613478  3.605749 NaN\n",
       "         13.37472     2.033891  0.411309  1.183861  0.097300 NaN\n",
       "         13.38670     3.965328  1.136020  0.888077  2.995084 NaN\n",
       "         13.52500     1.073605  2.078142  4.446620  0.808212 NaN\n",
       "         13.53526     1.759331  0.725860  4.123947  3.121908 NaN\n",
       "         13.60707     5.029873  1.299504  0.775014  3.256749 NaN\n",
       "         13.63820     0.206922  3.980435  4.665208  1.818099 NaN\n",
       "...                        ...       ...       ...       ...  ..\n",
       "two      14.43170     5.469604       NaN       NaN       NaN NaN\n",
       "         14.47050     1.318760       NaN       NaN       NaN NaN\n",
       "         14.55290     3.972786       NaN       NaN       NaN NaN\n",
       "         14.59680     0.684392       NaN       NaN       NaN NaN\n",
       "         14.71280    10.758311       NaN       NaN       NaN NaN\n",
       "         14.78700     1.941473       NaN       NaN       NaN NaN\n",
       "         14.84730     7.239552       NaN       NaN       NaN NaN\n",
       "         15.04140     2.011138       NaN       NaN       NaN NaN\n",
       "         15.07880     0.987775       NaN       NaN       NaN NaN\n",
       "         15.13270     9.980307       NaN       NaN       NaN NaN\n",
       "         15.14630    11.445231       NaN       NaN       NaN NaN\n",
       "         15.32270     4.530592       NaN       NaN       NaN NaN\n",
       "         15.36940     4.961876       NaN       NaN       NaN NaN\n",
       "         15.37030     5.902896       NaN       NaN       NaN NaN\n",
       "         15.46460     6.914277       NaN       NaN       NaN NaN\n",
       "         15.83390     0.959342       NaN       NaN       NaN NaN\n",
       "         15.83440    11.476654       NaN       NaN       NaN NaN\n",
       "         15.88760     8.808612       NaN       NaN       NaN NaN\n",
       "         15.97420     7.856730       NaN       NaN       NaN NaN\n",
       "         16.27840     5.518533       NaN       NaN       NaN NaN\n",
       "         16.36160     0.817832       NaN       NaN       NaN NaN\n",
       "         16.93880     5.822191       NaN       NaN       NaN NaN\n",
       "         17.08130     0.503493       NaN       NaN       NaN NaN\n",
       "         17.11750     3.287683       NaN       NaN       NaN NaN\n",
       "         17.29230    14.173894       NaN       NaN       NaN NaN\n",
       "         18.26680     8.795424       NaN       NaN       NaN NaN\n",
       "         19.13400     5.052840       NaN       NaN       NaN NaN\n",
       "         19.36980     6.038775       NaN       NaN       NaN NaN\n",
       "         20.37980    11.267017       NaN       NaN       NaN NaN\n",
       "         20.53000     5.736310       NaN       NaN       NaN NaN\n",
       "\n",
       "[3092 rows x 5 columns]"
      ]
     },
     "execution_count": 425,
     "metadata": {},
     "output_type": "execute_result"
    }
   ],
   "source": [
    "ad_frame2"
   ]
  },
  {
   "cell_type": "code",
   "execution_count": null,
   "metadata": {
    "collapsed": true
   },
   "outputs": [],
   "source": []
  },
  {
   "cell_type": "code",
   "execution_count": null,
   "metadata": {
    "collapsed": true
   },
   "outputs": [],
   "source": []
  },
  {
   "cell_type": "code",
   "execution_count": null,
   "metadata": {
    "collapsed": true
   },
   "outputs": [],
   "source": []
  },
  {
   "cell_type": "code",
   "execution_count": null,
   "metadata": {
    "collapsed": true
   },
   "outputs": [],
   "source": []
  },
  {
   "cell_type": "code",
   "execution_count": null,
   "metadata": {
    "collapsed": true
   },
   "outputs": [],
   "source": []
  },
  {
   "cell_type": "code",
   "execution_count": null,
   "metadata": {
    "collapsed": true
   },
   "outputs": [],
   "source": []
  },
  {
   "cell_type": "code",
   "execution_count": null,
   "metadata": {
    "collapsed": true
   },
   "outputs": [],
   "source": []
  },
  {
   "cell_type": "code",
   "execution_count": null,
   "metadata": {
    "collapsed": true
   },
   "outputs": [],
   "source": []
  },
  {
   "cell_type": "code",
   "execution_count": null,
   "metadata": {
    "collapsed": true
   },
   "outputs": [],
   "source": [
    "`"
   ]
  },
  {
   "cell_type": "code",
   "execution_count": 270,
   "metadata": {
    "collapsed": true
   },
   "outputs": [],
   "source": [
    "a = b.T"
   ]
  },
  {
   "cell_type": "code",
   "execution_count": 275,
   "metadata": {
    "collapsed": false
   },
   "outputs": [],
   "source": [
    "a['dvlength'] = info['dvlength']"
   ]
  },
  {
   "cell_type": "code",
   "execution_count": 284,
   "metadata": {
    "collapsed": false
   },
   "outputs": [
    {
     "data": {
      "text/plain": [
       "MultiIndex(levels=[[0, 1, 2, 3, 'dvlength'], ['a', 'b', 'c', 'd', 'e', '']],\n",
       "           labels=[[0, 0, 0, 0, 0, 1, 1, 1, 1, 1, 2, 2, 2, 2, 2, 3, 3, 3, 3, 3, 4], [0, 1, 2, 3, 4, 0, 1, 2, 3, 4, 0, 1, 2, 3, 4, 0, 1, 2, 3, 4, 5]],\n",
       "           names=['major', 'minor'])"
      ]
     },
     "execution_count": 284,
     "metadata": {},
     "output_type": "execute_result"
    }
   ],
   "source": [
    "a.columns"
   ]
  },
  {
   "cell_type": "code",
   "execution_count": null,
   "metadata": {
    "collapsed": true
   },
   "outputs": [],
   "source": []
  },
  {
   "cell_type": "code",
   "execution_count": 250,
   "metadata": {
    "collapsed": false
   },
   "outputs": [
    {
     "data": {
      "text/html": [
       "<div>\n",
       "<table border=\"1\" class=\"dataframe\">\n",
       "  <thead>\n",
       "    <tr>\n",
       "      <th>major</th>\n",
       "      <th colspan=\"5\" halign=\"left\">0</th>\n",
       "      <th>1</th>\n",
       "    </tr>\n",
       "    <tr>\n",
       "      <th>minor</th>\n",
       "      <th>a</th>\n",
       "      <th>b</th>\n",
       "      <th>c</th>\n",
       "      <th>d</th>\n",
       "      <th>e</th>\n",
       "      <th>a</th>\n",
       "    </tr>\n",
       "    <tr>\n",
       "      <th>cellnumber</th>\n",
       "      <th></th>\n",
       "      <th></th>\n",
       "      <th></th>\n",
       "      <th></th>\n",
       "      <th></th>\n",
       "      <th></th>\n",
       "    </tr>\n",
       "  </thead>\n",
       "  <tbody>\n",
       "    <tr>\n",
       "      <th>0</th>\n",
       "      <td>0.684563</td>\n",
       "      <td>0.000000</td>\n",
       "      <td>0.000000</td>\n",
       "      <td>0.000000</td>\n",
       "      <td>0.000000</td>\n",
       "      <td>0.170753</td>\n",
       "    </tr>\n",
       "    <tr>\n",
       "      <th>1</th>\n",
       "      <td>0.712199</td>\n",
       "      <td>0.000000</td>\n",
       "      <td>0.000000</td>\n",
       "      <td>0.000000</td>\n",
       "      <td>0.000000</td>\n",
       "      <td>0.196939</td>\n",
       "    </tr>\n",
       "    <tr>\n",
       "      <th>2</th>\n",
       "      <td>0.379713</td>\n",
       "      <td>0.418265</td>\n",
       "      <td>0.000000</td>\n",
       "      <td>0.000000</td>\n",
       "      <td>0.000000</td>\n",
       "      <td>0.070901</td>\n",
       "    </tr>\n",
       "    <tr>\n",
       "      <th>3</th>\n",
       "      <td>0.151623</td>\n",
       "      <td>0.578987</td>\n",
       "      <td>0.000000</td>\n",
       "      <td>0.000000</td>\n",
       "      <td>0.000000</td>\n",
       "      <td>0.160660</td>\n",
       "    </tr>\n",
       "    <tr>\n",
       "      <th>4</th>\n",
       "      <td>0.398447</td>\n",
       "      <td>0.000000</td>\n",
       "      <td>0.000000</td>\n",
       "      <td>0.000000</td>\n",
       "      <td>0.000000</td>\n",
       "      <td>0.000969</td>\n",
       "    </tr>\n",
       "    <tr>\n",
       "      <th>5</th>\n",
       "      <td>0.246148</td>\n",
       "      <td>0.028076</td>\n",
       "      <td>0.000000</td>\n",
       "      <td>0.000000</td>\n",
       "      <td>0.000000</td>\n",
       "      <td>0.001087</td>\n",
       "    </tr>\n",
       "    <tr>\n",
       "      <th>6</th>\n",
       "      <td>0.594546</td>\n",
       "      <td>0.000000</td>\n",
       "      <td>0.000000</td>\n",
       "      <td>0.000000</td>\n",
       "      <td>0.000000</td>\n",
       "      <td>0.716732</td>\n",
       "    </tr>\n",
       "    <tr>\n",
       "      <th>7</th>\n",
       "      <td>0.111093</td>\n",
       "      <td>0.617338</td>\n",
       "      <td>0.000000</td>\n",
       "      <td>0.000000</td>\n",
       "      <td>0.000000</td>\n",
       "      <td>0.235437</td>\n",
       "    </tr>\n",
       "    <tr>\n",
       "      <th>8</th>\n",
       "      <td>0.668389</td>\n",
       "      <td>0.000000</td>\n",
       "      <td>0.000000</td>\n",
       "      <td>0.000000</td>\n",
       "      <td>0.000000</td>\n",
       "      <td>0.169330</td>\n",
       "    </tr>\n",
       "    <tr>\n",
       "      <th>9</th>\n",
       "      <td>0.520975</td>\n",
       "      <td>0.005552</td>\n",
       "      <td>0.000000</td>\n",
       "      <td>0.000000</td>\n",
       "      <td>0.000000</td>\n",
       "      <td>0.559264</td>\n",
       "    </tr>\n",
       "    <tr>\n",
       "      <th>10</th>\n",
       "      <td>0.170766</td>\n",
       "      <td>0.056913</td>\n",
       "      <td>0.000000</td>\n",
       "      <td>0.000000</td>\n",
       "      <td>0.000000</td>\n",
       "      <td>0.061986</td>\n",
       "    </tr>\n",
       "    <tr>\n",
       "      <th>11</th>\n",
       "      <td>0.057887</td>\n",
       "      <td>0.449663</td>\n",
       "      <td>0.000000</td>\n",
       "      <td>0.000000</td>\n",
       "      <td>0.000000</td>\n",
       "      <td>0.187913</td>\n",
       "    </tr>\n",
       "    <tr>\n",
       "      <th>12</th>\n",
       "      <td>0.279399</td>\n",
       "      <td>0.335330</td>\n",
       "      <td>0.000000</td>\n",
       "      <td>0.000000</td>\n",
       "      <td>0.000000</td>\n",
       "      <td>0.082658</td>\n",
       "    </tr>\n",
       "    <tr>\n",
       "      <th>13</th>\n",
       "      <td>0.012875</td>\n",
       "      <td>0.140702</td>\n",
       "      <td>0.000000</td>\n",
       "      <td>0.000000</td>\n",
       "      <td>0.000000</td>\n",
       "      <td>0.168273</td>\n",
       "    </tr>\n",
       "    <tr>\n",
       "      <th>14</th>\n",
       "      <td>0.821847</td>\n",
       "      <td>0.000000</td>\n",
       "      <td>0.000000</td>\n",
       "      <td>0.000000</td>\n",
       "      <td>0.000000</td>\n",
       "      <td>0.378374</td>\n",
       "    </tr>\n",
       "    <tr>\n",
       "      <th>15</th>\n",
       "      <td>0.112708</td>\n",
       "      <td>0.000000</td>\n",
       "      <td>0.000000</td>\n",
       "      <td>0.000000</td>\n",
       "      <td>0.000000</td>\n",
       "      <td>0.128506</td>\n",
       "    </tr>\n",
       "    <tr>\n",
       "      <th>16</th>\n",
       "      <td>0.333873</td>\n",
       "      <td>0.287504</td>\n",
       "      <td>0.000000</td>\n",
       "      <td>0.000000</td>\n",
       "      <td>0.000000</td>\n",
       "      <td>0.430111</td>\n",
       "    </tr>\n",
       "    <tr>\n",
       "      <th>17</th>\n",
       "      <td>0.018567</td>\n",
       "      <td>0.008132</td>\n",
       "      <td>0.000000</td>\n",
       "      <td>0.000000</td>\n",
       "      <td>0.000000</td>\n",
       "      <td>0.013845</td>\n",
       "    </tr>\n",
       "    <tr>\n",
       "      <th>18</th>\n",
       "      <td>0.464106</td>\n",
       "      <td>0.275789</td>\n",
       "      <td>0.000000</td>\n",
       "      <td>0.000000</td>\n",
       "      <td>0.000000</td>\n",
       "      <td>0.030970</td>\n",
       "    </tr>\n",
       "    <tr>\n",
       "      <th>19</th>\n",
       "      <td>0.188076</td>\n",
       "      <td>0.696480</td>\n",
       "      <td>0.000000</td>\n",
       "      <td>0.000000</td>\n",
       "      <td>0.000000</td>\n",
       "      <td>0.338075</td>\n",
       "    </tr>\n",
       "    <tr>\n",
       "      <th>20</th>\n",
       "      <td>0.640560</td>\n",
       "      <td>0.000000</td>\n",
       "      <td>0.000000</td>\n",
       "      <td>0.000000</td>\n",
       "      <td>0.000000</td>\n",
       "      <td>0.938801</td>\n",
       "    </tr>\n",
       "    <tr>\n",
       "      <th>21</th>\n",
       "      <td>0.130828</td>\n",
       "      <td>0.000000</td>\n",
       "      <td>0.000000</td>\n",
       "      <td>0.000000</td>\n",
       "      <td>0.000000</td>\n",
       "      <td>0.339206</td>\n",
       "    </tr>\n",
       "    <tr>\n",
       "      <th>22</th>\n",
       "      <td>0.000000</td>\n",
       "      <td>0.000000</td>\n",
       "      <td>0.000000</td>\n",
       "      <td>0.000000</td>\n",
       "      <td>0.000000</td>\n",
       "      <td>0.000000</td>\n",
       "    </tr>\n",
       "    <tr>\n",
       "      <th>23</th>\n",
       "      <td>0.257142</td>\n",
       "      <td>0.000000</td>\n",
       "      <td>0.000000</td>\n",
       "      <td>0.000000</td>\n",
       "      <td>0.000000</td>\n",
       "      <td>0.416956</td>\n",
       "    </tr>\n",
       "    <tr>\n",
       "      <th>24</th>\n",
       "      <td>0.828290</td>\n",
       "      <td>0.000000</td>\n",
       "      <td>0.000000</td>\n",
       "      <td>0.000000</td>\n",
       "      <td>0.000000</td>\n",
       "      <td>0.300075</td>\n",
       "    </tr>\n",
       "    <tr>\n",
       "      <th>25</th>\n",
       "      <td>0.000000</td>\n",
       "      <td>0.000000</td>\n",
       "      <td>0.000000</td>\n",
       "      <td>0.000000</td>\n",
       "      <td>0.000000</td>\n",
       "      <td>0.000000</td>\n",
       "    </tr>\n",
       "    <tr>\n",
       "      <th>26</th>\n",
       "      <td>0.178426</td>\n",
       "      <td>0.000000</td>\n",
       "      <td>0.000000</td>\n",
       "      <td>0.000000</td>\n",
       "      <td>0.000000</td>\n",
       "      <td>0.596614</td>\n",
       "    </tr>\n",
       "    <tr>\n",
       "      <th>27</th>\n",
       "      <td>0.266072</td>\n",
       "      <td>0.358862</td>\n",
       "      <td>0.000000</td>\n",
       "      <td>0.000000</td>\n",
       "      <td>0.000000</td>\n",
       "      <td>0.238044</td>\n",
       "    </tr>\n",
       "    <tr>\n",
       "      <th>28</th>\n",
       "      <td>0.035902</td>\n",
       "      <td>0.000000</td>\n",
       "      <td>0.000000</td>\n",
       "      <td>0.000000</td>\n",
       "      <td>0.000000</td>\n",
       "      <td>0.883807</td>\n",
       "    </tr>\n",
       "    <tr>\n",
       "      <th>29</th>\n",
       "      <td>0.110420</td>\n",
       "      <td>0.000000</td>\n",
       "      <td>0.000000</td>\n",
       "      <td>0.000000</td>\n",
       "      <td>0.000000</td>\n",
       "      <td>0.871265</td>\n",
       "    </tr>\n",
       "    <tr>\n",
       "      <th>...</th>\n",
       "      <td>...</td>\n",
       "      <td>...</td>\n",
       "      <td>...</td>\n",
       "      <td>...</td>\n",
       "      <td>...</td>\n",
       "      <td>...</td>\n",
       "    </tr>\n",
       "    <tr>\n",
       "      <th>3062</th>\n",
       "      <td>0.073644</td>\n",
       "      <td>0.190448</td>\n",
       "      <td>0.013344</td>\n",
       "      <td>0.647403</td>\n",
       "      <td>0.000000</td>\n",
       "      <td>0.062959</td>\n",
       "    </tr>\n",
       "    <tr>\n",
       "      <th>3063</th>\n",
       "      <td>0.208024</td>\n",
       "      <td>0.200383</td>\n",
       "      <td>0.185575</td>\n",
       "      <td>0.124452</td>\n",
       "      <td>0.178634</td>\n",
       "      <td>0.165405</td>\n",
       "    </tr>\n",
       "    <tr>\n",
       "      <th>3064</th>\n",
       "      <td>0.234018</td>\n",
       "      <td>0.020301</td>\n",
       "      <td>0.224565</td>\n",
       "      <td>0.084511</td>\n",
       "      <td>0.340012</td>\n",
       "      <td>0.042954</td>\n",
       "    </tr>\n",
       "    <tr>\n",
       "      <th>3065</th>\n",
       "      <td>0.251541</td>\n",
       "      <td>0.210658</td>\n",
       "      <td>0.028885</td>\n",
       "      <td>0.425822</td>\n",
       "      <td>0.000000</td>\n",
       "      <td>0.396402</td>\n",
       "    </tr>\n",
       "    <tr>\n",
       "      <th>3066</th>\n",
       "      <td>0.189661</td>\n",
       "      <td>0.518076</td>\n",
       "      <td>0.000000</td>\n",
       "      <td>0.000000</td>\n",
       "      <td>0.000000</td>\n",
       "      <td>0.393190</td>\n",
       "    </tr>\n",
       "    <tr>\n",
       "      <th>3067</th>\n",
       "      <td>0.508572</td>\n",
       "      <td>0.196391</td>\n",
       "      <td>0.026927</td>\n",
       "      <td>0.000000</td>\n",
       "      <td>0.000000</td>\n",
       "      <td>0.032911</td>\n",
       "    </tr>\n",
       "    <tr>\n",
       "      <th>3068</th>\n",
       "      <td>0.134156</td>\n",
       "      <td>0.000000</td>\n",
       "      <td>0.000000</td>\n",
       "      <td>0.000000</td>\n",
       "      <td>0.000000</td>\n",
       "      <td>0.135890</td>\n",
       "    </tr>\n",
       "    <tr>\n",
       "      <th>3069</th>\n",
       "      <td>0.025797</td>\n",
       "      <td>0.561563</td>\n",
       "      <td>0.258384</td>\n",
       "      <td>0.000000</td>\n",
       "      <td>0.000000</td>\n",
       "      <td>0.281705</td>\n",
       "    </tr>\n",
       "    <tr>\n",
       "      <th>3070</th>\n",
       "      <td>0.134498</td>\n",
       "      <td>0.491820</td>\n",
       "      <td>0.000000</td>\n",
       "      <td>0.000000</td>\n",
       "      <td>0.000000</td>\n",
       "      <td>0.053766</td>\n",
       "    </tr>\n",
       "    <tr>\n",
       "      <th>3071</th>\n",
       "      <td>0.017045</td>\n",
       "      <td>0.098565</td>\n",
       "      <td>0.000000</td>\n",
       "      <td>0.000000</td>\n",
       "      <td>0.000000</td>\n",
       "      <td>0.051213</td>\n",
       "    </tr>\n",
       "    <tr>\n",
       "      <th>3072</th>\n",
       "      <td>0.214286</td>\n",
       "      <td>0.195322</td>\n",
       "      <td>0.136441</td>\n",
       "      <td>0.000000</td>\n",
       "      <td>0.000000</td>\n",
       "      <td>0.574997</td>\n",
       "    </tr>\n",
       "    <tr>\n",
       "      <th>3073</th>\n",
       "      <td>0.191219</td>\n",
       "      <td>0.000000</td>\n",
       "      <td>0.000000</td>\n",
       "      <td>0.000000</td>\n",
       "      <td>0.000000</td>\n",
       "      <td>0.228372</td>\n",
       "    </tr>\n",
       "    <tr>\n",
       "      <th>3074</th>\n",
       "      <td>0.015754</td>\n",
       "      <td>0.415485</td>\n",
       "      <td>0.376624</td>\n",
       "      <td>0.000000</td>\n",
       "      <td>0.000000</td>\n",
       "      <td>0.324631</td>\n",
       "    </tr>\n",
       "    <tr>\n",
       "      <th>3075</th>\n",
       "      <td>0.871368</td>\n",
       "      <td>0.017282</td>\n",
       "      <td>0.000000</td>\n",
       "      <td>0.000000</td>\n",
       "      <td>0.000000</td>\n",
       "      <td>0.482828</td>\n",
       "    </tr>\n",
       "    <tr>\n",
       "      <th>3076</th>\n",
       "      <td>0.136178</td>\n",
       "      <td>0.000000</td>\n",
       "      <td>0.000000</td>\n",
       "      <td>0.000000</td>\n",
       "      <td>0.000000</td>\n",
       "      <td>0.670493</td>\n",
       "    </tr>\n",
       "    <tr>\n",
       "      <th>3077</th>\n",
       "      <td>0.667126</td>\n",
       "      <td>0.012222</td>\n",
       "      <td>0.000000</td>\n",
       "      <td>0.000000</td>\n",
       "      <td>0.000000</td>\n",
       "      <td>0.270011</td>\n",
       "    </tr>\n",
       "    <tr>\n",
       "      <th>3078</th>\n",
       "      <td>0.107080</td>\n",
       "      <td>0.276561</td>\n",
       "      <td>0.325498</td>\n",
       "      <td>0.071273</td>\n",
       "      <td>0.000000</td>\n",
       "      <td>0.204122</td>\n",
       "    </tr>\n",
       "    <tr>\n",
       "      <th>3079</th>\n",
       "      <td>0.182775</td>\n",
       "      <td>0.263775</td>\n",
       "      <td>0.000000</td>\n",
       "      <td>0.000000</td>\n",
       "      <td>0.000000</td>\n",
       "      <td>0.081063</td>\n",
       "    </tr>\n",
       "    <tr>\n",
       "      <th>3080</th>\n",
       "      <td>0.322938</td>\n",
       "      <td>0.024303</td>\n",
       "      <td>0.000000</td>\n",
       "      <td>0.000000</td>\n",
       "      <td>0.000000</td>\n",
       "      <td>0.575224</td>\n",
       "    </tr>\n",
       "    <tr>\n",
       "      <th>3081</th>\n",
       "      <td>0.538387</td>\n",
       "      <td>0.000000</td>\n",
       "      <td>0.000000</td>\n",
       "      <td>0.000000</td>\n",
       "      <td>0.000000</td>\n",
       "      <td>0.615988</td>\n",
       "    </tr>\n",
       "    <tr>\n",
       "      <th>3082</th>\n",
       "      <td>0.076175</td>\n",
       "      <td>0.589649</td>\n",
       "      <td>0.000000</td>\n",
       "      <td>0.000000</td>\n",
       "      <td>0.000000</td>\n",
       "      <td>0.227687</td>\n",
       "    </tr>\n",
       "    <tr>\n",
       "      <th>3083</th>\n",
       "      <td>0.199175</td>\n",
       "      <td>0.538761</td>\n",
       "      <td>0.000000</td>\n",
       "      <td>0.000000</td>\n",
       "      <td>0.000000</td>\n",
       "      <td>0.050376</td>\n",
       "    </tr>\n",
       "    <tr>\n",
       "      <th>3084</th>\n",
       "      <td>0.296362</td>\n",
       "      <td>0.565497</td>\n",
       "      <td>0.000000</td>\n",
       "      <td>0.000000</td>\n",
       "      <td>0.000000</td>\n",
       "      <td>0.008741</td>\n",
       "    </tr>\n",
       "    <tr>\n",
       "      <th>3085</th>\n",
       "      <td>0.245402</td>\n",
       "      <td>0.393580</td>\n",
       "      <td>0.000000</td>\n",
       "      <td>0.000000</td>\n",
       "      <td>0.000000</td>\n",
       "      <td>0.099847</td>\n",
       "    </tr>\n",
       "    <tr>\n",
       "      <th>3086</th>\n",
       "      <td>0.018483</td>\n",
       "      <td>0.197234</td>\n",
       "      <td>0.339311</td>\n",
       "      <td>0.000000</td>\n",
       "      <td>0.000000</td>\n",
       "      <td>0.027366</td>\n",
       "    </tr>\n",
       "    <tr>\n",
       "      <th>3087</th>\n",
       "      <td>0.509667</td>\n",
       "      <td>0.152343</td>\n",
       "      <td>0.000000</td>\n",
       "      <td>0.000000</td>\n",
       "      <td>0.000000</td>\n",
       "      <td>0.578103</td>\n",
       "    </tr>\n",
       "    <tr>\n",
       "      <th>3088</th>\n",
       "      <td>0.177066</td>\n",
       "      <td>0.266821</td>\n",
       "      <td>0.000000</td>\n",
       "      <td>0.000000</td>\n",
       "      <td>0.000000</td>\n",
       "      <td>0.207768</td>\n",
       "    </tr>\n",
       "    <tr>\n",
       "      <th>3089</th>\n",
       "      <td>0.158290</td>\n",
       "      <td>0.054368</td>\n",
       "      <td>0.296359</td>\n",
       "      <td>0.000000</td>\n",
       "      <td>0.000000</td>\n",
       "      <td>0.012362</td>\n",
       "    </tr>\n",
       "    <tr>\n",
       "      <th>3090</th>\n",
       "      <td>0.088087</td>\n",
       "      <td>0.423367</td>\n",
       "      <td>0.229064</td>\n",
       "      <td>0.000000</td>\n",
       "      <td>0.000000</td>\n",
       "      <td>0.347663</td>\n",
       "    </tr>\n",
       "    <tr>\n",
       "      <th>3091</th>\n",
       "      <td>0.413484</td>\n",
       "      <td>0.235083</td>\n",
       "      <td>0.000000</td>\n",
       "      <td>0.000000</td>\n",
       "      <td>0.000000</td>\n",
       "      <td>0.423948</td>\n",
       "    </tr>\n",
       "  </tbody>\n",
       "</table>\n",
       "<p>3092 rows × 6 columns</p>\n",
       "</div>"
      ],
      "text/plain": [
       "major              0                                                 1\n",
       "minor              a         b         c         d         e         a\n",
       "cellnumber                                                            \n",
       "0           0.684563  0.000000  0.000000  0.000000  0.000000  0.170753\n",
       "1           0.712199  0.000000  0.000000  0.000000  0.000000  0.196939\n",
       "2           0.379713  0.418265  0.000000  0.000000  0.000000  0.070901\n",
       "3           0.151623  0.578987  0.000000  0.000000  0.000000  0.160660\n",
       "4           0.398447  0.000000  0.000000  0.000000  0.000000  0.000969\n",
       "5           0.246148  0.028076  0.000000  0.000000  0.000000  0.001087\n",
       "6           0.594546  0.000000  0.000000  0.000000  0.000000  0.716732\n",
       "7           0.111093  0.617338  0.000000  0.000000  0.000000  0.235437\n",
       "8           0.668389  0.000000  0.000000  0.000000  0.000000  0.169330\n",
       "9           0.520975  0.005552  0.000000  0.000000  0.000000  0.559264\n",
       "10          0.170766  0.056913  0.000000  0.000000  0.000000  0.061986\n",
       "11          0.057887  0.449663  0.000000  0.000000  0.000000  0.187913\n",
       "12          0.279399  0.335330  0.000000  0.000000  0.000000  0.082658\n",
       "13          0.012875  0.140702  0.000000  0.000000  0.000000  0.168273\n",
       "14          0.821847  0.000000  0.000000  0.000000  0.000000  0.378374\n",
       "15          0.112708  0.000000  0.000000  0.000000  0.000000  0.128506\n",
       "16          0.333873  0.287504  0.000000  0.000000  0.000000  0.430111\n",
       "17          0.018567  0.008132  0.000000  0.000000  0.000000  0.013845\n",
       "18          0.464106  0.275789  0.000000  0.000000  0.000000  0.030970\n",
       "19          0.188076  0.696480  0.000000  0.000000  0.000000  0.338075\n",
       "20          0.640560  0.000000  0.000000  0.000000  0.000000  0.938801\n",
       "21          0.130828  0.000000  0.000000  0.000000  0.000000  0.339206\n",
       "22          0.000000  0.000000  0.000000  0.000000  0.000000  0.000000\n",
       "23          0.257142  0.000000  0.000000  0.000000  0.000000  0.416956\n",
       "24          0.828290  0.000000  0.000000  0.000000  0.000000  0.300075\n",
       "25          0.000000  0.000000  0.000000  0.000000  0.000000  0.000000\n",
       "26          0.178426  0.000000  0.000000  0.000000  0.000000  0.596614\n",
       "27          0.266072  0.358862  0.000000  0.000000  0.000000  0.238044\n",
       "28          0.035902  0.000000  0.000000  0.000000  0.000000  0.883807\n",
       "29          0.110420  0.000000  0.000000  0.000000  0.000000  0.871265\n",
       "...              ...       ...       ...       ...       ...       ...\n",
       "3062        0.073644  0.190448  0.013344  0.647403  0.000000  0.062959\n",
       "3063        0.208024  0.200383  0.185575  0.124452  0.178634  0.165405\n",
       "3064        0.234018  0.020301  0.224565  0.084511  0.340012  0.042954\n",
       "3065        0.251541  0.210658  0.028885  0.425822  0.000000  0.396402\n",
       "3066        0.189661  0.518076  0.000000  0.000000  0.000000  0.393190\n",
       "3067        0.508572  0.196391  0.026927  0.000000  0.000000  0.032911\n",
       "3068        0.134156  0.000000  0.000000  0.000000  0.000000  0.135890\n",
       "3069        0.025797  0.561563  0.258384  0.000000  0.000000  0.281705\n",
       "3070        0.134498  0.491820  0.000000  0.000000  0.000000  0.053766\n",
       "3071        0.017045  0.098565  0.000000  0.000000  0.000000  0.051213\n",
       "3072        0.214286  0.195322  0.136441  0.000000  0.000000  0.574997\n",
       "3073        0.191219  0.000000  0.000000  0.000000  0.000000  0.228372\n",
       "3074        0.015754  0.415485  0.376624  0.000000  0.000000  0.324631\n",
       "3075        0.871368  0.017282  0.000000  0.000000  0.000000  0.482828\n",
       "3076        0.136178  0.000000  0.000000  0.000000  0.000000  0.670493\n",
       "3077        0.667126  0.012222  0.000000  0.000000  0.000000  0.270011\n",
       "3078        0.107080  0.276561  0.325498  0.071273  0.000000  0.204122\n",
       "3079        0.182775  0.263775  0.000000  0.000000  0.000000  0.081063\n",
       "3080        0.322938  0.024303  0.000000  0.000000  0.000000  0.575224\n",
       "3081        0.538387  0.000000  0.000000  0.000000  0.000000  0.615988\n",
       "3082        0.076175  0.589649  0.000000  0.000000  0.000000  0.227687\n",
       "3083        0.199175  0.538761  0.000000  0.000000  0.000000  0.050376\n",
       "3084        0.296362  0.565497  0.000000  0.000000  0.000000  0.008741\n",
       "3085        0.245402  0.393580  0.000000  0.000000  0.000000  0.099847\n",
       "3086        0.018483  0.197234  0.339311  0.000000  0.000000  0.027366\n",
       "3087        0.509667  0.152343  0.000000  0.000000  0.000000  0.578103\n",
       "3088        0.177066  0.266821  0.000000  0.000000  0.000000  0.207768\n",
       "3089        0.158290  0.054368  0.296359  0.000000  0.000000  0.012362\n",
       "3090        0.088087  0.423367  0.229064  0.000000  0.000000  0.347663\n",
       "3091        0.413484  0.235083  0.000000  0.000000  0.000000  0.423948\n",
       "\n",
       "[3092 rows x 6 columns]"
      ]
     },
     "execution_count": 250,
     "metadata": {},
     "output_type": "execute_result"
    }
   ],
   "source": [
    "b.ix[:6].T"
   ]
  },
  {
   "cell_type": "code",
   "execution_count": null,
   "metadata": {
    "collapsed": true
   },
   "outputs": [],
   "source": []
  },
  {
   "cell_type": "code",
   "execution_count": null,
   "metadata": {
    "collapsed": true
   },
   "outputs": [],
   "source": []
  },
  {
   "cell_type": "code",
   "execution_count": null,
   "metadata": {
    "collapsed": true
   },
   "outputs": [],
   "source": []
  },
  {
   "cell_type": "code",
   "execution_count": null,
   "metadata": {
    "collapsed": true
   },
   "outputs": [],
   "source": []
  },
  {
   "cell_type": "code",
   "execution_count": null,
   "metadata": {
    "collapsed": true
   },
   "outputs": [],
   "source": []
  },
  {
   "cell_type": "code",
   "execution_count": null,
   "metadata": {
    "collapsed": true
   },
   "outputs": [],
   "source": []
  },
  {
   "cell_type": "code",
   "execution_count": null,
   "metadata": {
    "collapsed": true
   },
   "outputs": [],
   "source": []
  },
  {
   "cell_type": "code",
   "execution_count": null,
   "metadata": {
    "collapsed": true
   },
   "outputs": [],
   "source": []
  },
  {
   "cell_type": "code",
   "execution_count": null,
   "metadata": {
    "collapsed": true
   },
   "outputs": [],
   "source": []
  },
  {
   "cell_type": "code",
   "execution_count": null,
   "metadata": {
    "collapsed": true
   },
   "outputs": [],
   "source": []
  },
  {
   "cell_type": "code",
   "execution_count": null,
   "metadata": {
    "collapsed": true
   },
   "outputs": [],
   "source": []
  },
  {
   "cell_type": "code",
   "execution_count": null,
   "metadata": {
    "collapsed": true
   },
   "outputs": [],
   "source": []
  },
  {
   "cell_type": "code",
   "execution_count": null,
   "metadata": {
    "collapsed": false
   },
   "outputs": [],
   "source": [
    "info = invivo_ln.T\n",
    "info.columns"
   ]
  },
  {
   "cell_type": "code",
   "execution_count": null,
   "metadata": {
    "collapsed": false
   },
   "outputs": [],
   "source": [
    "info['dicword'] = info.dentincell.map(lambda x: num2words.num2words(x))"
   ]
  },
  {
   "cell_type": "code",
   "execution_count": null,
   "metadata": {
    "collapsed": false
   },
   "outputs": [],
   "source": [
    "info.ix[:5]"
   ]
  },
  {
   "cell_type": "code",
   "execution_count": null,
   "metadata": {
    "collapsed": false
   },
   "outputs": [],
   "source": [
    "randomdistance_abs_frame['basicinfo','dentword'] = randomdistance_abs_frame.basicinfo.dentincell.map(lambda x: num2words.num2words(x))"
   ]
  },
  {
   "cell_type": "code",
   "execution_count": null,
   "metadata": {
    "collapsed": false
   },
   "outputs": [],
   "source": [
    "randomdistance_abs_frame.columns"
   ]
  },
  {
   "cell_type": "code",
   "execution_count": null,
   "metadata": {
    "collapsed": false
   },
   "outputs": [],
   "source": [
    "randomdistance_abs_frame.drop(['basicinfo','dentword'],level='B')"
   ]
  },
  {
   "cell_type": "code",
   "execution_count": null,
   "metadata": {
    "collapsed": false
   },
   "outputs": [],
   "source": [
    "a = randomdistance_rel_frame.ix[:5]\n",
    "a"
   ]
  },
  {
   "cell_type": "code",
   "execution_count": null,
   "metadata": {
    "collapsed": false
   },
   "outputs": [],
   "source": [
    "a.columns"
   ]
  },
  {
   "cell_type": "code",
   "execution_count": null,
   "metadata": {
    "collapsed": true
   },
   "outputs": [],
   "source": []
  },
  {
   "cell_type": "code",
   "execution_count": null,
   "metadata": {
    "collapsed": true
   },
   "outputs": [],
   "source": []
  },
  {
   "cell_type": "code",
   "execution_count": null,
   "metadata": {
    "collapsed": true
   },
   "outputs": [],
   "source": []
  },
  {
   "cell_type": "code",
   "execution_count": null,
   "metadata": {
    "collapsed": false
   },
   "outputs": [],
   "source": [
    "randomdistance_rel_frame.ix[:5]."
   ]
  },
  {
   "cell_type": "code",
   "execution_count": null,
   "metadata": {
    "collapsed": true
   },
   "outputs": [],
   "source": []
  },
  {
   "cell_type": "code",
   "execution_count": null,
   "metadata": {
    "collapsed": false
   },
   "outputs": [],
   "source": [
    "a = pd.read_csv('yw_MonteCarlo_relative_distances_SummedDVlength20160219_180731_iterationtime=0.9710289999999979.csv')"
   ]
  },
  {
   "cell_type": "code",
   "execution_count": null,
   "metadata": {
    "collapsed": false
   },
   "outputs": [],
   "source": [
    "a"
   ]
  },
  {
   "cell_type": "code",
   "execution_count": null,
   "metadata": {
    "collapsed": false
   },
   "outputs": [],
   "source": [
    "rl = pd.read_csv('./yw_iteration0_random_distances_20160218_161159_iterationtime=23.862026999999998.csv')"
   ]
  },
  {
   "cell_type": "code",
   "execution_count": null,
   "metadata": {
    "collapsed": false
   },
   "outputs": [],
   "source": [
    "rl"
   ]
  },
  {
   "cell_type": "code",
   "execution_count": null,
   "metadata": {
    "collapsed": true
   },
   "outputs": [],
   "source": []
  },
  {
   "cell_type": "code",
   "execution_count": null,
   "metadata": {
    "collapsed": true
   },
   "outputs": [],
   "source": []
  },
  {
   "cell_type": "code",
   "execution_count": null,
   "metadata": {
    "collapsed": true
   },
   "outputs": [],
   "source": []
  },
  {
   "cell_type": "code",
   "execution_count": null,
   "metadata": {
    "collapsed": true
   },
   "outputs": [],
   "source": []
  },
  {
   "cell_type": "code",
   "execution_count": null,
   "metadata": {
    "collapsed": true
   },
   "outputs": [],
   "source": []
  },
  {
   "cell_type": "code",
   "execution_count": null,
   "metadata": {
    "collapsed": true
   },
   "outputs": [],
   "source": []
  },
  {
   "cell_type": "code",
   "execution_count": null,
   "metadata": {
    "collapsed": true
   },
   "outputs": [],
   "source": []
  },
  {
   "cell_type": "code",
   "execution_count": null,
   "metadata": {
    "collapsed": true
   },
   "outputs": [],
   "source": []
  },
  {
   "cell_type": "code",
   "execution_count": null,
   "metadata": {
    "collapsed": true
   },
   "outputs": [],
   "source": []
  },
  {
   "cell_type": "code",
   "execution_count": null,
   "metadata": {
    "collapsed": true
   },
   "outputs": [],
   "source": []
  },
  {
   "cell_type": "code",
   "execution_count": null,
   "metadata": {
    "collapsed": true
   },
   "outputs": [],
   "source": []
  },
  {
   "cell_type": "code",
   "execution_count": null,
   "metadata": {
    "collapsed": true
   },
   "outputs": [],
   "source": []
  },
  {
   "cell_type": "code",
   "execution_count": null,
   "metadata": {
    "collapsed": true
   },
   "outputs": [],
   "source": []
  },
  {
   "cell_type": "code",
   "execution_count": null,
   "metadata": {
    "collapsed": true
   },
   "outputs": [],
   "source": []
  },
  {
   "cell_type": "code",
   "execution_count": null,
   "metadata": {
    "collapsed": true
   },
   "outputs": [],
   "source": []
  },
  {
   "cell_type": "code",
   "execution_count": null,
   "metadata": {
    "collapsed": true
   },
   "outputs": [],
   "source": []
  },
  {
   "cell_type": "code",
   "execution_count": null,
   "metadata": {
    "collapsed": true
   },
   "outputs": [],
   "source": []
  },
  {
   "cell_type": "code",
   "execution_count": null,
   "metadata": {
    "collapsed": true
   },
   "outputs": [],
   "source": []
  },
  {
   "cell_type": "code",
   "execution_count": null,
   "metadata": {
    "collapsed": true
   },
   "outputs": [],
   "source": []
  },
  {
   "cell_type": "code",
   "execution_count": null,
   "metadata": {
    "collapsed": true
   },
   "outputs": [],
   "source": []
  },
  {
   "cell_type": "code",
   "execution_count": null,
   "metadata": {
    "collapsed": true
   },
   "outputs": [],
   "source": []
  },
  {
   "cell_type": "code",
   "execution_count": null,
   "metadata": {
    "collapsed": false
   },
   "outputs": [],
   "source": [
    "maxDent = int(max(invivo_ln.ix['dentincell']))\n",
    "\n",
    "for dentno in range(1,maxDent):\n",
    "\n",
    "    celldata = invivo_ln[invivo_ln['dentincell']==dentno].T\n",
    "    \n",
    "\n",
    "    for dex, row in enumerate(celldata):\n",
    "        celllength = celldata[row]['dvlength']\n",
    "        \n",
    "\n",
    "\n",
    "        positions = np.zeros(((cells * dentno), iterations))\n",
    "        fname = str(dent) + '_montecarlo_positions_replicates.csv'\n",
    "\n",
    "        for it in range(0, iterations):\n",
    "            this = np.reshape(np.random.rand(cells, dent), (1, -1))\n",
    "            positions[:, it] = this\n",
    "\n",
    "        np.savetxt(fname, positions, delimiter=',')\n",
    "\n",
    "        distances = positions[1:, :] - positions[0:-1,:]\n",
    "        np.savetxt(fname2, distances, delimiter=',')\n",
    "\n"
   ]
  },
  {
   "cell_type": "code",
   "execution_count": null,
   "metadata": {
    "collapsed": false
   },
   "outputs": [],
   "source": [
    "invivo_ln.columns"
   ]
  },
  {
   "cell_type": "code",
   "execution_count": null,
   "metadata": {
    "collapsed": false
   },
   "outputs": [],
   "source": [
    "a = invivo_ln[invivo_ln['dentincell']==1]['dvlength']\n",
    "a.repeat(2)"
   ]
  },
  {
   "cell_type": "code",
   "execution_count": null,
   "metadata": {
    "collapsed": false
   },
   "outputs": [],
   "source": [
    "cellstosim = [(2,12)] #,(3,476),(4,130)]   (1,1284),\n",
    "iterations = 10\n",
    "\n",
    "for elem in cellstosim: \n",
    "    dent, cells = elem\n",
    "\n",
    "    positions = np.zeros(((cells*dent),iterations))\n",
    "    fname = str(dent)+'_montecarlo_positions_replicates.csv'\n",
    "    \n",
    "    for it in range(0,iterations): \n",
    "        this = np.reshape(np.random.rand(cells, dent),(1,-1))       \n",
    "        positions[:,it] = this"
   ]
  },
  {
   "cell_type": "code",
   "execution_count": null,
   "metadata": {
    "collapsed": false
   },
   "outputs": [],
   "source": [
    "np.random.rand(5)"
   ]
  },
  {
   "cell_type": "code",
   "execution_count": null,
   "metadata": {
    "collapsed": false
   },
   "outputs": [],
   "source": [
    "enumerate "
   ]
  },
  {
   "cell_type": "code",
   "execution_count": null,
   "metadata": {
    "collapsed": false
   },
   "outputs": [],
   "source": [
    "invivo_ln"
   ]
  },
  {
   "cell_type": "code",
   "execution_count": null,
   "metadata": {
    "collapsed": false
   },
   "outputs": [],
   "source": [
    "invivo_ln.T"
   ]
  },
  {
   "cell_type": "code",
   "execution_count": null,
   "metadata": {
    "collapsed": false
   },
   "outputs": [],
   "source": [
    "for dex, cellinfo in enumerate(invivo_ln.values):\n",
    "    1"
   ]
  },
  {
   "cell_type": "code",
   "execution_count": null,
   "metadata": {
    "collapsed": false
   },
   "outputs": [],
   "source": [
    "a = np.zeros((5,6))\n",
    "a"
   ]
  },
  {
   "cell_type": "code",
   "execution_count": null,
   "metadata": {
    "collapsed": false
   },
   "outputs": [],
   "source": [
    "a[0,:] = [1,1,1,1] + [0,0]"
   ]
  },
  {
   "cell_type": "code",
   "execution_count": null,
   "metadata": {
    "collapsed": true
   },
   "outputs": [],
   "source": [
    "def GenerateDist_Uniformrandom(celllength, denticlenumber):\n",
    "    positions = np.random.rand(denticlenumber)\n",
    "    positions = np.sort(positions,axis=0)\n",
    "    # sort smallest to largest\n",
    "    relativedistances = positions[1:] - positions[0:-1]\n",
    "    absolutedistances = relativedistances * celllength\n",
    "    # calculate the distance between the points\n",
    "\n",
    "    return positions, relativedistances, absolutedistances"
   ]
  },
  {
   "cell_type": "code",
   "execution_count": null,
   "metadata": {
    "collapsed": false
   },
   "outputs": [],
   "source": [
    "denticlenumber"
   ]
  },
  {
   "cell_type": "code",
   "execution_count": null,
   "metadata": {
    "collapsed": false
   },
   "outputs": [],
   "source": [
    "invivo_ln = invivo_ln.T"
   ]
  },
  {
   "cell_type": "code",
   "execution_count": null,
   "metadata": {
    "collapsed": false
   },
   "outputs": [],
   "source": [
    "invivo_ln.shape"
   ]
  },
  {
   "cell_type": "code",
   "execution_count": null,
   "metadata": {
    "collapsed": false
   },
   "outputs": [],
   "source": [
    "invivo_ln.T.values\n"
   ]
  },
  {
   "cell_type": "code",
   "execution_count": null,
   "metadata": {
    "collapsed": false
   },
   "outputs": [],
   "source": [
    "type(cellinfo)"
   ]
  },
  {
   "cell_type": "code",
   "execution_count": null,
   "metadata": {
    "collapsed": false
   },
   "outputs": [],
   "source": [
    "cellinfo.shape, positions.shape, np.zeros(maxDent - denticlenumber).shape"
   ]
  },
  {
   "cell_type": "code",
   "execution_count": null,
   "metadata": {
    "collapsed": false
   },
   "outputs": [],
   "source": [
    "randompositions.shape"
   ]
  },
  {
   "cell_type": "code",
   "execution_count": null,
   "metadata": {
    "collapsed": false
   },
   "outputs": [],
   "source": [
    "np.concatenate((cellinfo, positions, np.zeros(maxDent - denticlenumber)))"
   ]
  },
  {
   "cell_type": "code",
   "execution_count": null,
   "metadata": {
    "collapsed": false
   },
   "outputs": [],
   "source": [
    "randompositions[:,0:2,0] = invivo_ln.T"
   ]
  },
  {
   "cell_type": "code",
   "execution_count": null,
   "metadata": {
    "collapsed": false
   },
   "outputs": [],
   "source": [
    "randompositionpanel #.T.index"
   ]
  },
  {
   "cell_type": "code",
   "execution_count": null,
   "metadata": {
    "collapsed": false
   },
   "outputs": [],
   "source": [
    "# maxDent = int(max(invivo_ln.ix['dentincell']))\n",
    "maxDent = 6\n",
    "cells_to_simulate = 1\n",
    "iteration = 0\n",
    "\n",
    "randompositions = np.zeros((len(invivo_ln.T), (cells_to_simulate), maxDent))\n",
    "randomdistances_rel = np.zeros((len(invivo_ln.T), (cells_to_simulate), (maxDent-1)))\n",
    "randomdistances_abs = np.zeros((len(invivo_ln.T), (cells_to_simulate), (maxDent-1)))\n",
    "\n",
    "# randompositions[:,0:2,0] = invivo_ln.T\n",
    "\n",
    "# generate random positions\n",
    "for iteration in range(0, int(cells_to_simulate)):\n",
    "    \n",
    "    ittime = time.clock()\n",
    "    \n",
    "    for dex, cellinfo in enumerate(invivo_ln.T.values):\n",
    "        denticlenumber, cellsize = cellinfo\n",
    "        denticlenumber = int(denticlenumber)\n",
    "\n",
    "        positions = np.sort(np.random.rand(int(denticlenumber)),axis=0)\n",
    "        # sort smallest to largest\n",
    "        relativedistances = positions[1:] - positions[0:-1]\n",
    "        absolutedistances = relativedistances * celllength\n",
    "        # calculate the distance between the points\n",
    "\n",
    "\n",
    "        randompositions[dex, iteration, :] = np.concatenate((positions, np.zeros(maxDent - denticlenumber)))\n",
    "        randomdistances_rel[dex, iteration, :] = np.concatenate((relativedistances, np.zeros(maxDent - denticlenumber)))\n",
    "        randomdistances_abs[dex, iteration, :] = np.concatenate((absolutedistances, np.zeros(maxDent - denticlenumber)))\n",
    "\n",
    "    randompositionpanel = pd.Panel(randompositions,\n",
    "                                   minor_axis=[list(string.ascii_lowercase[:maxDent])]).to_frame()\n",
    "    randomdist_relpanel = pd.Panel(randomdistances_rel,\n",
    "                                   minor_axis=[list(string.ascii_lowercase[:maxDent-1])]).to_frame()\n",
    "    randomdist_abspanel = pd.Panel(randomdistances_abs,\n",
    "                                   minor_axis=[list(string.ascii_lowercase[:maxDent-1])]).to_frame()\n",
    "    \n",
    "    info = invivo_ln.T\n",
    "    info.columns = [['basicinfo','basicinfo'], ['dentincell', 'dvlength']]\n",
    "    info.index = randompositionpanel.columns\n",
    "    \n",
    "    randompositionframe = pd.concat([info.T,randompositionpanel]).T\n",
    "    randomdistance_rel_frame = pd.concat([info.T,randomdist_relpanel]).T\n",
    "    randomdistance_abs_frame = pd.concat([info.T, randomdist_abspanel]).T\n",
    "    \n",
    "    elapsedtime = time.clock() - ittime\n",
    "    \n",
    "    randompositionframe.to_csv(genotype + '_' + str(iteration) + '_MonteCarlo_positions_' + dvlen_type + time.strftime(\"%Y%m%d_%H%M%S\") + '_iterationtime=' + str(elapsedtime) + '.csv')\n",
    "    randomdistance_rel_frame.to_csv(genotype + '_' + str(iteration) + '_MonteCarlo_relative_distances_' + dvlen_type + time.strftime(\"%Y%m%d_%H%M%S\") + '_iterationtime=' + str(elapsedtime) + '.csv')\n",
    "    randomdistance_abs_frame.to_csv(genotype + '_' + str(iteration) + '_MonteCarlo_absolute_distances_' + dvlen_type + time.strftime(\"%Y%m%d_%H%M%S\") + '_iterationtime=' + str(elapsedtime) + '.csv')\n",
    "\n",
    "\n"
   ]
  },
  {
   "cell_type": "code",
   "execution_count": null,
   "metadata": {
    "collapsed": false,
    "scrolled": true
   },
   "outputs": [],
   "source": [
    "randomdistance_abs_frame"
   ]
  },
  {
   "cell_type": "code",
   "execution_count": null,
   "metadata": {
    "collapsed": true
   },
   "outputs": [],
   "source": []
  },
  {
   "cell_type": "code",
   "execution_count": null,
   "metadata": {
    "collapsed": true
   },
   "outputs": [],
   "source": []
  },
  {
   "cell_type": "code",
   "execution_count": null,
   "metadata": {
    "collapsed": false
   },
   "outputs": [],
   "source": [
    "a = randompositionpanel.to_frame()"
   ]
  },
  {
   "cell_type": "code",
   "execution_count": null,
   "metadata": {
    "collapsed": false
   },
   "outputs": [],
   "source": [
    "a = a.replace(0,np.nan)\n",
    "b = a.T\n",
    "b\n",
    "\n",
    "# b['basicinfo']['dentnumber','celllength'] = invivo_ln.T\n",
    "b.ix[:5]"
   ]
  },
  {
   "cell_type": "code",
   "execution_count": null,
   "metadata": {
    "collapsed": false
   },
   "outputs": [],
   "source": [
    "b.columns.names"
   ]
  },
  {
   "cell_type": "code",
   "execution_count": null,
   "metadata": {
    "collapsed": true
   },
   "outputs": [],
   "source": [
    "d = invivo_ln.T"
   ]
  },
  {
   "cell_type": "code",
   "execution_count": null,
   "metadata": {
    "collapsed": false
   },
   "outputs": [],
   "source": [
    "d.shape\n",
    "d.ix[:5]"
   ]
  },
  {
   "cell_type": "code",
   "execution_count": null,
   "metadata": {
    "collapsed": false
   },
   "outputs": [],
   "source": [
    "d.columns"
   ]
  },
  {
   "cell_type": "code",
   "execution_count": null,
   "metadata": {
    "collapsed": false
   },
   "outputs": [],
   "source": [
    "d = invivo_ln.T\n",
    "d.columns = [['basicinfo','basicinfo'], ['dentincell', 'dvlength']]\n",
    "d.index = b.index\n",
    "f = pd.concat([b.T,d.T])\n",
    "f.T\n"
   ]
  },
  {
   "cell_type": "code",
   "execution_count": null,
   "metadata": {
    "collapsed": false
   },
   "outputs": [],
   "source": [
    "d.columns = [['basicinfo','basicinfo'], ['dentincell', 'dvlength']]\n",
    "d[:5]"
   ]
  },
  {
   "cell_type": "code",
   "execution_count": null,
   "metadata": {
    "collapsed": false
   },
   "outputs": [],
   "source": [
    "d.columns.names = b.columns.names"
   ]
  },
  {
   "cell_type": "code",
   "execution_count": null,
   "metadata": {
    "collapsed": false
   },
   "outputs": [],
   "source": [
    "d.shape"
   ]
  },
  {
   "cell_type": "code",
   "execution_count": null,
   "metadata": {
    "collapsed": false
   },
   "outputs": [],
   "source": [
    "b.shape"
   ]
  },
  {
   "cell_type": "code",
   "execution_count": null,
   "metadata": {
    "collapsed": false
   },
   "outputs": [],
   "source": [
    "d.ix[:5]"
   ]
  },
  {
   "cell_type": "code",
   "execution_count": null,
   "metadata": {
    "collapsed": false
   },
   "outputs": [],
   "source": [
    "b.index"
   ]
  },
  {
   "cell_type": "code",
   "execution_count": null,
   "metadata": {
    "collapsed": false
   },
   "outputs": [],
   "source": [
    "d.index = b.index"
   ]
  },
  {
   "cell_type": "code",
   "execution_count": null,
   "metadata": {
    "collapsed": false
   },
   "outputs": [],
   "source": [
    "f = pd.concat([b.T,d.T])\n",
    "f.T"
   ]
  },
  {
   "cell_type": "code",
   "execution_count": null,
   "metadata": {
    "collapsed": true
   },
   "outputs": [],
   "source": []
  },
  {
   "cell_type": "code",
   "execution_count": null,
   "metadata": {
    "collapsed": true
   },
   "outputs": [],
   "source": []
  },
  {
   "cell_type": "code",
   "execution_count": null,
   "metadata": {
    "collapsed": true
   },
   "outputs": [],
   "source": []
  },
  {
   "cell_type": "code",
   "execution_count": null,
   "metadata": {
    "collapsed": true
   },
   "outputs": [],
   "source": []
  },
  {
   "cell_type": "code",
   "execution_count": null,
   "metadata": {
    "collapsed": true
   },
   "outputs": [],
   "source": []
  },
  {
   "cell_type": "code",
   "execution_count": null,
   "metadata": {
    "collapsed": true
   },
   "outputs": [],
   "source": []
  }
 ],
 "metadata": {
  "kernelspec": {
   "display_name": "Python [default]",
   "language": "python",
   "name": "python3"
  },
  "language_info": {
   "codemirror_mode": {
    "name": "ipython",
    "version": 3
   },
   "file_extension": ".py",
   "mimetype": "text/x-python",
   "name": "python",
   "nbconvert_exporter": "python",
   "pygments_lexer": "ipython3",
   "version": "3.5.2"
  }
 },
 "nbformat": 4,
 "nbformat_minor": 0
}
