{
 "cells": [
  {
   "cell_type": "code",
   "execution_count": null,
   "metadata": {
    "collapsed": true
   },
   "outputs": [],
   "source": [
    "import glob\n",
    "import os\n",
    "import itertools\n",
    "import time\n",
    "\n",
    "import numpy as np\n",
    "import pandas as pd\n",
    "import scipy.stats as sps\n",
    "\n",
    "import seaborn\n",
    "import matplotlib.pyplot as plt\n",
    "%matplotlib inline"
   ]
  },
  {
   "cell_type": "code",
   "execution_count": null,
   "metadata": {
    "collapsed": true
   },
   "outputs": [],
   "source": [
    "def IndivStatTest(original_data,test_data, model, sigma, filename_out):\n",
    "# IN: 3D np array, list of strings with length=arr[X,:,:] (array axis 0), name of csv file\n",
    "    test_data = test_data[np.nonzero(test_data)]\n",
    "\n",
    "    test_ks = sps.ks_2samp(original_data, test_data)\n",
    "    # outputs [ks-statistic, p-value]\n",
    "    # If the K-S statistic is small or the p-value is high, then we cannot reject the hypothesis that the distributions of the two samples are the same.\n",
    "    test_mwu = sps.mannwhitneyu(original_data[np.nonzero(original_data)], test_data)\n",
    "    # returns [mwu-statistic, p-value];  One-sided p-value assuming a asymptotic normal distribution.\n",
    "    # Use only when the number of observation in each sample is > 20 and you have 2 independent samples of ranks. Mann-Whitney U is significant if the u-obtained is LESS THAN or equal to the critical value of U.\n",
    "    # This test corrects for ties and by default uses a continuity correction. The reported p-value is for a one-sided hypothesis, to get the two-sided p-value multiply the returned p-value by 2.\n",
    "\n",
    "    with open(filename_out, 'a') as f:\n",
    "        csv.writer(f).writerows([[model+'_'+sigma,  test_ks[0], test_ks[1], TestPasses(test_ks[1], 0.05), test_mwu[0], test_mwu[1], TestPasses(test_mwu[1], 0.05)]])\n",
    "                      \n",
    "\n",
    "def TestPasses(pval, cutoff):\n",
    "    if pval < cutoff: \n",
    "        return 'different'\n",
    "    elif pval >= cutoff: \n",
    "        return 'same'"
   ]
  },
  {
   "cell_type": "code",
   "execution_count": null,
   "metadata": {
    "collapsed": false
   },
   "outputs": [],
   "source": [
    "os.path.join(os.getcwd(),'ValTest.txt')"
   ]
  },
  {
   "cell_type": "code",
   "execution_count": null,
   "metadata": {
    "collapsed": false
   },
   "outputs": [],
   "source": [
    "#  Import \n",
    "\n",
    "starttime = time.clock()   # returns time in seconds\n",
    "\n",
    "# # for cmd line call\n",
    "# script, input_file, compare_to_sim, val_alpha, val_sigma = argv\n",
    "\n",
    "# invivo_data = pd.read_csv(input_file)\n",
    "# simulation_data = pd.read_csv(compare_to_sim)\n",
    "\n",
    "\n",
    "# for jupyter notebook\n",
    "simnumber_to_test = '1'\n",
    "\n",
    "input_file = glob.glob('*iteration' + simnumber_to_test + '_random_distances*.csv')[0]\n",
    "\n",
    "simulation_data = pd.read_csv(input_file, index_col=(0,1,2))\n",
    "\n",
    "val_alpha = 'twothirdsD'\n",
    "val_sigma = 'six'"
   ]
  },
  {
   "cell_type": "code",
   "execution_count": null,
   "metadata": {
    "collapsed": true
   },
   "outputs": [],
   "source": [
    "# get genotype from filename\n",
    "genotype = input_file.split('_')[0]  # split the string at the underscore, returns a list of the parts (no underscores), take the first/before part"
   ]
  },
  {
   "cell_type": "code",
   "execution_count": null,
   "metadata": {
    "collapsed": false
   },
   "outputs": [],
   "source": [
    "simuldata = simulation_data.T\n",
    "simuldata = simuldata[val_alpha][val_sigma].values.flatten()\n",
    "simuldata = simuldata[np.nonzero(simuldata)]"
   ]
  },
  {
   "cell_type": "code",
   "execution_count": null,
   "metadata": {
    "collapsed": true
   },
   "outputs": [],
   "source": []
  },
  {
   "cell_type": "code",
   "execution_count": null,
   "metadata": {
    "collapsed": true
   },
   "outputs": [],
   "source": [
    "# Constants and basic indicies\n",
    "\n",
    "alphas = (5/10, 6/10, 2/3, 7/10, 3/4, 8/10, 9/10, 1)\n",
    "idx_alphas = ['halfD','sixtenthsD','twothirdsD','sevententhsD','threequartersD','eighttenthsD','ninetenthsD','oneD']\n",
    "basicinfo = ['dvlength','dentincell']\n",
    "idx_positions = basicinfo + idx_alphas\n",
    "\n",
    "numberofstdevs = np.array([[5], [6], [7], [8], [9]])\n",
    "idx_sigmas = ['five','six','seven','eight','nine']"
   ]
  },
  {
   "cell_type": "code",
   "execution_count": null,
   "metadata": {
    "collapsed": false
   },
   "outputs": [],
   "source": [
    "# calculate statistics of datasets\n",
    "\n",
    "# establish basics again\n",
    "# TODO this can be merged with the initial things above 'MAIN'\n",
    "# idx_alphas =  ['halfD','sixtenthsD','twothirdsD','sevententhsD','threequartersD','eighttenthsD','ninetenthsD','oneD']\n",
    "# idx_sigmas = ['five','six','seven','eight','nine']\n",
    "\n",
    "\n",
    "# \n",
    "# example filename: yw_iteration9940_random_distances_20160127_192532_iterationtime=24.116169999993872.csv\n",
    "names = []\n",
    "for fname in glob.glob('*iteration*distances*.csv')[:20]:\n",
    "    names.append(fname)\n",
    "    \n",
    "now = time.strftime(\"%Y%m%d_%H%M%S\")\n",
    "\n",
    "\n",
    "for name in names:\n",
    "    frame = pd.read_csv(name, index_col=(0,1,2))\n",
    "    # read in csv file, with columns indices specificed\n",
    "    frame = frame.T \n",
    "    frame.columns.names = [None, None, None]\n",
    "    # flip, because it's easier to work with columns than with rows indexed... and clear out names\n",
    "\n",
    "    for elem in itertools.product(idx_alphas,idx_sigmas): \n",
    "        model,sigma = elem\n",
    "        subframe = frame[model][sigma].values.flatten()\n",
    "        csvname = 'Validation_against_'+ val_alpha +'_'+ val_sigma +'_' + genotype +'_statistics_' + sigma +'_'+ now +'.csv'\n",
    "        IndivStatTest(simuldata, subframe, model, sigma, csvname)"
   ]
  },
  {
   "cell_type": "code",
   "execution_count": null,
   "metadata": {
    "collapsed": true
   },
   "outputs": [],
   "source": []
  },
  {
   "cell_type": "code",
   "execution_count": null,
   "metadata": {
    "collapsed": false
   },
   "outputs": [],
   "source": [
    "# summarize statistics data \n",
    "names = []\n",
    "for fname in glob.glob('*_statistics_*.csv'):\n",
    "    names.append(fname)\n",
    "\n",
    "idx_stats = ['iter','model','ks_stat','ks_pvalue','ks_sameness','mwu_stat','mwu_pvalue','mwu_sameness']\n",
    "terms = {'same':1,'different':0}\n",
    "splitter = 'ks'\n",
    "\n",
    "for name in names: \n",
    "#     genotype = name.split('_')[0]\n",
    "    frame = pd.read_csv(name,header=None, names=idx_stats[1:])\n",
    "    frame = frame.sort_values(by='model')\n",
    "\n",
    "    frame.index = list(range(0,int(len(frame)/len(idx_alphas))))*len(idx_alphas)\n",
    "    \n",
    "    stdev = name.split('_')[6]\n",
    "\n",
    "    fr2 = pd.DataFrame()\n",
    "    fr3 = pd.DataFrame()\n",
    "    fr4 = pd.DataFrame()\n",
    "    \n",
    "#     for modelname in (y+z for y,z in itertools.product((x+'_' for x in idx_alphas),stdev)):\n",
    "    for modelname in (model + '_' + stdev for model in idx_alphas):\n",
    "        temp = frame[frame['model'] == modelname]\n",
    "        \n",
    "        fr2[modelname.split('2')[0].split('_')[0]] = frame[frame['model'] == modelname][splitter + '_pvalue']\n",
    "        fr3[modelname.split('2')[0].split('_')[0]] = frame[frame['model'] == modelname][splitter + '_sameness']\n",
    "        fr3[modelname.split('2')[0].split('_')[0]] = fr3[modelname.split('2')[0].split('_')[0]].map(terms)\n",
    "    \n",
    "    # save\n",
    "    fr2.to_csv(genotype + '_' + stdev + '_' + splitter + '_pvalue' + '.csv')\n",
    "    fr3.to_csv(genotype + '_' + stdev + '_' + splitter + '_sameness' + '.csv')\n",
    "\n",
    "    # calculate fractions that pass/fail, summarize, and make plots\n",
    "    fr4['p<0.05'] = (1-(fr3.sum()/len(fr3)))*100\n",
    "    fr4['p>0.05'] = (fr3.sum()/len(fr3))*100\n",
    "\n",
    "    myplot = fr4.plot(kind='bar',stacked=True,color=['b','y'])\n",
    "    myplot.legend(bbox_to_anchor=(.55,1.1),loc=2,ncol=2,borderaxespad=0.5)\n",
    "    plt.title('s = ' + stdev, loc='left')\n",
    "    fig = myplot.get_figure()\n",
    "    fig.savefig('Validation_against_'+ val_alpha +'_'+ val_sigma +'_' + genotype+'_'+stdev+'.png',bbox_inches='tight')\n",
    "#     plt.close(fig)\n",
    "\n",
    "    fr4.to_csv('Validation_against_'+ val_alpha +'_'+ val_sigma +'_' + genotype + '_' + stdev + '_' + splitter + '_fractions' + '.csv')"
   ]
  },
  {
   "cell_type": "code",
   "execution_count": null,
   "metadata": {
    "collapsed": false
   },
   "outputs": [],
   "source": [
    "list(model + '_' + stdev for model in idx_alphas)"
   ]
  },
  {
   "cell_type": "code",
   "execution_count": null,
   "metadata": {
    "collapsed": false
   },
   "outputs": [],
   "source": [
    "modelname"
   ]
  },
  {
   "cell_type": "code",
   "execution_count": null,
   "metadata": {
    "collapsed": true
   },
   "outputs": [],
   "source": []
  },
  {
   "cell_type": "code",
   "execution_count": null,
   "metadata": {
    "collapsed": true
   },
   "outputs": [],
   "source": []
  }
 ],
 "metadata": {
  "kernelspec": {
   "display_name": "Python [default]",
   "language": "python",
   "name": "python3"
  },
  "language_info": {
   "codemirror_mode": {
    "name": "ipython",
    "version": 3
   },
   "file_extension": ".py",
   "mimetype": "text/x-python",
   "name": "python",
   "nbconvert_exporter": "python",
   "pygments_lexer": "ipython3",
   "version": "3.5.2"
  }
 },
 "nbformat": 4,
 "nbformat_minor": 0
}
